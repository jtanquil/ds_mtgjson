{
 "cells": [
  {
   "cell_type": "markdown",
   "metadata": {
    "_cell_guid": "cbc9608c-7ed2-4497-ba7a-7dcd051aeea9",
    "_uuid": "0cca1d906f26b9f025a56b9095e2cc9b6e0c083e"
   },
   "source": [
    "## Introduction\n",
    "\n",
    "In order to start teaching myself data science and Python, I decided to work with a data set near and dear to my heart. Magic cards are an ideal data set to study for several reasons - there are a large number of observations (over 10,000 cards and nearly 200 sets released) while still being fairly tractable. Card data is readily available in `JSON` format thanks to the developers of [MTGJSON](https://mtgjson.com). The data set contains a variety of interesting characteristics, both numerical and qualitative, to analyze. Most importantly, one can use methods in statistical learning to explore interesting questions about Magic design and development, such as:\n",
    "\n",
    "* Have creatures gotten more powerful over the years?\n",
    "* Has removal gotten worse?\n",
    "* Given the text of a card, is it possible to predict its color and mana cost?\n",
    "\n",
    "This notebook will document my process of working with this data set to produce answers to questions like these. I'm still a beginner, so this will be as much about documenting mistakes I make and issues I encounter as it will be about any insights I may discover. Any feedback is appreciated.\n",
    "\n",
    "## Data Extraction\n",
    "\n",
    "Before doing any analysis, I need to process the data the make it easy to work with in Python. My first task is to convert `all_sets.json` into a pandas DataFrame using the `read_json` method:"
   ]
  },
  {
   "cell_type": "code",
   "execution_count": 1,
   "metadata": {
    "_cell_guid": "087cbce4-ea1e-4133-be1d-63827f05f7b1",
    "_uuid": "5fcc220c784cbf55457ecb8901b3e782698ac76a"
   },
   "outputs": [
    {
     "data": {
      "text/plain": [
       "'0.22.0'"
      ]
     },
     "execution_count": 1,
     "metadata": {},
     "output_type": "execute_result"
    }
   ],
   "source": [
    "# This Python 3 environment comes with many helpful analytics libraries installed\n",
    "# It is defined by the kaggle/python docker image: https://github.com/kaggle/docker-python\n",
    "# For example, here's several helpful packages to load in \n",
    "\n",
    "import numpy as np # linear algebra\n",
    "import pandas as pd # data processing, CSV file I/O (e.g. pd.read_csv)\n",
    "import json\n",
    "import itertools as it\n",
    "import matplotlib\n",
    "import matplotlib.pyplot as plt\n",
    "import matplotlib.mlab as mlab\n",
    "\n",
    "%matplotlib inline\n",
    "pd.__version__"
   ]
  },
  {
   "cell_type": "code",
   "execution_count": 5,
   "metadata": {},
   "outputs": [
    {
     "name": "stdout",
     "output_type": "stream",
     "text": [
      "C:\\Users\\jose\\ds_mtgjson\n"
     ]
    }
   ],
   "source": [
    "%cd ds_mtgjson"
   ]
  },
  {
   "cell_type": "code",
   "execution_count": 6,
   "metadata": {
    "_cell_guid": "20c75e06-2ea1-48a9-9278-3b5873966f7d",
    "_uuid": "102f75f048b53978ef07f2dab65f94b3dfe783d8",
    "scrolled": false
   },
   "outputs": [
    {
     "data": {
      "text/html": [
       "<div>\n",
       "<style scoped>\n",
       "    .dataframe tbody tr th:only-of-type {\n",
       "        vertical-align: middle;\n",
       "    }\n",
       "\n",
       "    .dataframe tbody tr th {\n",
       "        vertical-align: top;\n",
       "    }\n",
       "\n",
       "    .dataframe thead th {\n",
       "        text-align: right;\n",
       "    }\n",
       "</style>\n",
       "<table border=\"1\" class=\"dataframe\">\n",
       "  <thead>\n",
       "    <tr style=\"text-align: right;\">\n",
       "      <th></th>\n",
       "      <th>alternativeNames</th>\n",
       "      <th>block</th>\n",
       "      <th>booster</th>\n",
       "      <th>border</th>\n",
       "      <th>cards</th>\n",
       "      <th>code</th>\n",
       "      <th>gathererCode</th>\n",
       "      <th>magicCardsInfoCode</th>\n",
       "      <th>magicRaritiesCodes</th>\n",
       "      <th>mkm_id</th>\n",
       "      <th>mkm_name</th>\n",
       "      <th>name</th>\n",
       "      <th>oldCode</th>\n",
       "      <th>onlineOnly</th>\n",
       "      <th>releaseDate</th>\n",
       "      <th>translations</th>\n",
       "      <th>type</th>\n",
       "    </tr>\n",
       "  </thead>\n",
       "  <tbody>\n",
       "    <tr>\n",
       "      <th>10E</th>\n",
       "      <td>NaN</td>\n",
       "      <td>NaN</td>\n",
       "      <td>[rare, uncommon, uncommon, uncommon, common, c...</td>\n",
       "      <td>black</td>\n",
       "      <td>[{'artist': 'Pete Venters', 'cmc': 7, 'colorId...</td>\n",
       "      <td>10E</td>\n",
       "      <td>NaN</td>\n",
       "      <td>10e</td>\n",
       "      <td>NaN</td>\n",
       "      <td>74.0</td>\n",
       "      <td>Tenth Edition</td>\n",
       "      <td>Tenth Edition</td>\n",
       "      <td>NaN</td>\n",
       "      <td>NaN</td>\n",
       "      <td>2007-07-13</td>\n",
       "      <td>{'de': 'Zehnte Edition', 'fr': 'DixiÃ¨me Ã©dit...</td>\n",
       "      <td>core</td>\n",
       "    </tr>\n",
       "    <tr>\n",
       "      <th>2ED</th>\n",
       "      <td>NaN</td>\n",
       "      <td>NaN</td>\n",
       "      <td>[rare, uncommon, uncommon, uncommon, common, c...</td>\n",
       "      <td>white</td>\n",
       "      <td>[{'artist': 'Amy Weber', 'cmc': 2, 'id': '89b6...</td>\n",
       "      <td>2ED</td>\n",
       "      <td>2U</td>\n",
       "      <td>un</td>\n",
       "      <td>NaN</td>\n",
       "      <td>3.0</td>\n",
       "      <td>Unlimited</td>\n",
       "      <td>Unlimited Edition</td>\n",
       "      <td>NaN</td>\n",
       "      <td>NaN</td>\n",
       "      <td>1993-12-01</td>\n",
       "      <td>NaN</td>\n",
       "      <td>core</td>\n",
       "    </tr>\n",
       "    <tr>\n",
       "      <th>3ED</th>\n",
       "      <td>NaN</td>\n",
       "      <td>NaN</td>\n",
       "      <td>[rare, uncommon, uncommon, uncommon, common, c...</td>\n",
       "      <td>white</td>\n",
       "      <td>[{'artist': 'Mark Tedin', 'cmc': 10, 'id': 'ce...</td>\n",
       "      <td>3ED</td>\n",
       "      <td>3E</td>\n",
       "      <td>rv</td>\n",
       "      <td>NaN</td>\n",
       "      <td>6.0</td>\n",
       "      <td>Revised</td>\n",
       "      <td>Revised Edition</td>\n",
       "      <td>NaN</td>\n",
       "      <td>NaN</td>\n",
       "      <td>1994-04-01</td>\n",
       "      <td>{'de': 'Unlimitierte Auflage', 'fr': 'Tirage N...</td>\n",
       "      <td>core</td>\n",
       "    </tr>\n",
       "    <tr>\n",
       "      <th>4ED</th>\n",
       "      <td>NaN</td>\n",
       "      <td>NaN</td>\n",
       "      <td>[rare, uncommon, uncommon, uncommon, common, c...</td>\n",
       "      <td>white</td>\n",
       "      <td>[{'artist': 'Mark Tedin', 'cmc': 10, 'id': '1a...</td>\n",
       "      <td>4ED</td>\n",
       "      <td>4E</td>\n",
       "      <td>4e</td>\n",
       "      <td>NaN</td>\n",
       "      <td>10.0</td>\n",
       "      <td>Fourth Edition</td>\n",
       "      <td>Fourth Edition</td>\n",
       "      <td>NaN</td>\n",
       "      <td>NaN</td>\n",
       "      <td>1995-04-01</td>\n",
       "      <td>{'de': 'Vierte Edition', 'fr': 'QuatriÃ¨me Edi...</td>\n",
       "      <td>core</td>\n",
       "    </tr>\n",
       "    <tr>\n",
       "      <th>5DN</th>\n",
       "      <td>NaN</td>\n",
       "      <td>Mirrodin</td>\n",
       "      <td>[rare, uncommon, uncommon, uncommon, common, c...</td>\n",
       "      <td>black</td>\n",
       "      <td>[{'artist': 'John Matson', 'cmc': 4, 'colorIde...</td>\n",
       "      <td>5DN</td>\n",
       "      <td>NaN</td>\n",
       "      <td>5dn</td>\n",
       "      <td>NaN</td>\n",
       "      <td>47.0</td>\n",
       "      <td>Fifth Dawn</td>\n",
       "      <td>Fifth Dawn</td>\n",
       "      <td>NaN</td>\n",
       "      <td>NaN</td>\n",
       "      <td>2004-06-04</td>\n",
       "      <td>{'de': 'FÃ¼nfte MorgenrÃ¶te', 'fr': 'La Cinqui...</td>\n",
       "      <td>expansion</td>\n",
       "    </tr>\n",
       "  </tbody>\n",
       "</table>\n",
       "</div>"
      ],
      "text/plain": [
       "    alternativeNames     block  \\\n",
       "10E              NaN       NaN   \n",
       "2ED              NaN       NaN   \n",
       "3ED              NaN       NaN   \n",
       "4ED              NaN       NaN   \n",
       "5DN              NaN  Mirrodin   \n",
       "\n",
       "                                               booster border  \\\n",
       "10E  [rare, uncommon, uncommon, uncommon, common, c...  black   \n",
       "2ED  [rare, uncommon, uncommon, uncommon, common, c...  white   \n",
       "3ED  [rare, uncommon, uncommon, uncommon, common, c...  white   \n",
       "4ED  [rare, uncommon, uncommon, uncommon, common, c...  white   \n",
       "5DN  [rare, uncommon, uncommon, uncommon, common, c...  black   \n",
       "\n",
       "                                                 cards code gathererCode  \\\n",
       "10E  [{'artist': 'Pete Venters', 'cmc': 7, 'colorId...  10E          NaN   \n",
       "2ED  [{'artist': 'Amy Weber', 'cmc': 2, 'id': '89b6...  2ED           2U   \n",
       "3ED  [{'artist': 'Mark Tedin', 'cmc': 10, 'id': 'ce...  3ED           3E   \n",
       "4ED  [{'artist': 'Mark Tedin', 'cmc': 10, 'id': '1a...  4ED           4E   \n",
       "5DN  [{'artist': 'John Matson', 'cmc': 4, 'colorIde...  5DN          NaN   \n",
       "\n",
       "    magicCardsInfoCode magicRaritiesCodes  mkm_id        mkm_name  \\\n",
       "10E                10e                NaN    74.0   Tenth Edition   \n",
       "2ED                 un                NaN     3.0       Unlimited   \n",
       "3ED                 rv                NaN     6.0         Revised   \n",
       "4ED                 4e                NaN    10.0  Fourth Edition   \n",
       "5DN                5dn                NaN    47.0      Fifth Dawn   \n",
       "\n",
       "                  name oldCode  onlineOnly releaseDate  \\\n",
       "10E      Tenth Edition     NaN         NaN  2007-07-13   \n",
       "2ED  Unlimited Edition     NaN         NaN  1993-12-01   \n",
       "3ED    Revised Edition     NaN         NaN  1994-04-01   \n",
       "4ED     Fourth Edition     NaN         NaN  1995-04-01   \n",
       "5DN         Fifth Dawn     NaN         NaN  2004-06-04   \n",
       "\n",
       "                                          translations       type  \n",
       "10E  {'de': 'Zehnte Edition', 'fr': 'DixiÃ¨me Ã©dit...       core  \n",
       "2ED                                                NaN       core  \n",
       "3ED  {'de': 'Unlimitierte Auflage', 'fr': 'Tirage N...       core  \n",
       "4ED  {'de': 'Vierte Edition', 'fr': 'QuatriÃ¨me Edi...       core  \n",
       "5DN  {'de': 'FÃ¼nfte MorgenrÃ¶te', 'fr': 'La Cinqui...  expansion  "
      ]
     },
     "execution_count": 6,
     "metadata": {},
     "output_type": "execute_result"
    }
   ],
   "source": [
    "# read sets into a DataFrame; index is chosen as the orient so the set names are the indices\n",
    "all_sets = pd.read_json(\"AllSets.json\", orient = \"index\")\n",
    "all_sets.head()"
   ]
  },
  {
   "cell_type": "markdown",
   "metadata": {
    "_cell_guid": "7ee7bd8b-6ffb-479d-8477-427108855fda",
    "_uuid": "01f36441a725157b28bb08b976499db3d00b1fb8"
   },
   "source": [
    "The `all_sets` DataFrame is a list of all Magic sets (through March 2018) indexed by the set codename. I used the `index` orientation since the structure of the `all_sets.json`, as described by the documentation on the [MTGJSON website](https://mtgjson.com/documentation.html), is of the form\n",
    "\n",
    "`{\n",
    "    ...\n",
    "    set_code1 : { /* set data /* },\n",
    "    set_code2 : { /* set data /* },\n",
    "    set_code3 : { /* set data /* },\n",
    "    ...\n",
    "}`\n",
    "\n",
    "which is of the form `{index -> {column -> value}}` described in the [pandas documentation for the `read_json` method](https://pandas.pydata.org/pandas-docs/stable/generated/pandas.read_json.html#pandas.read_json). We can now examine some basic characteristics of `all_sets`:"
   ]
  },
  {
   "cell_type": "code",
   "execution_count": 7,
   "metadata": {
    "_cell_guid": "87f5b2d5-ac48-4d9a-8455-672683c165ff",
    "_uuid": "58c233881fdf1602a9c866aaf1482179ddce9ebb"
   },
   "outputs": [
    {
     "data": {
      "text/plain": [
       "(221, 17)"
      ]
     },
     "execution_count": 7,
     "metadata": {},
     "output_type": "execute_result"
    }
   ],
   "source": [
    "# the set names are the indices, and the columns are the attributes of each set (border, cards, etc)\n",
    "all_sets.shape"
   ]
  },
  {
   "cell_type": "code",
   "execution_count": 8,
   "metadata": {
    "_cell_guid": "f1820ff7-8cfc-47db-aa4a-2b596e85bc19",
    "_uuid": "81832a644522adeb377aa00e319998e083a13daa",
    "scrolled": true
   },
   "outputs": [
    {
     "data": {
      "text/plain": [
       "Index(['alternativeNames', 'block', 'booster', 'border', 'cards', 'code',\n",
       "       'gathererCode', 'magicCardsInfoCode', 'magicRaritiesCodes', 'mkm_id',\n",
       "       'mkm_name', 'name', 'oldCode', 'onlineOnly', 'releaseDate',\n",
       "       'translations', 'type'],\n",
       "      dtype='object')"
      ]
     },
     "execution_count": 8,
     "metadata": {},
     "output_type": "execute_result"
    }
   ],
   "source": [
    "all_sets.columns"
   ]
  },
  {
   "cell_type": "code",
   "execution_count": 9,
   "metadata": {
    "_cell_guid": "2f7e4cf2-4688-41a5-8b35-ee268c03a6c8",
    "_uuid": "2e42998ef2d613e47b92fe8f56ef25e124bdec51"
   },
   "outputs": [
    {
     "data": {
      "text/html": [
       "<div>\n",
       "<style scoped>\n",
       "    .dataframe tbody tr th:only-of-type {\n",
       "        vertical-align: middle;\n",
       "    }\n",
       "\n",
       "    .dataframe tbody tr th {\n",
       "        vertical-align: top;\n",
       "    }\n",
       "\n",
       "    .dataframe thead th {\n",
       "        text-align: right;\n",
       "    }\n",
       "</style>\n",
       "<table border=\"1\" class=\"dataframe\">\n",
       "  <thead>\n",
       "    <tr style=\"text-align: right;\">\n",
       "      <th></th>\n",
       "      <th>mkm_id</th>\n",
       "      <th>onlineOnly</th>\n",
       "    </tr>\n",
       "  </thead>\n",
       "  <tbody>\n",
       "    <tr>\n",
       "      <th>count</th>\n",
       "      <td>161.00000</td>\n",
       "      <td>6.0</td>\n",
       "    </tr>\n",
       "    <tr>\n",
       "      <th>mean</th>\n",
       "      <td>550.78882</td>\n",
       "      <td>1.0</td>\n",
       "    </tr>\n",
       "    <tr>\n",
       "      <th>std</th>\n",
       "      <td>666.76967</td>\n",
       "      <td>0.0</td>\n",
       "    </tr>\n",
       "    <tr>\n",
       "      <th>min</th>\n",
       "      <td>1.00000</td>\n",
       "      <td>1.0</td>\n",
       "    </tr>\n",
       "    <tr>\n",
       "      <th>25%</th>\n",
       "      <td>41.00000</td>\n",
       "      <td>1.0</td>\n",
       "    </tr>\n",
       "    <tr>\n",
       "      <th>50%</th>\n",
       "      <td>95.00000</td>\n",
       "      <td>1.0</td>\n",
       "    </tr>\n",
       "    <tr>\n",
       "      <th>75%</th>\n",
       "      <td>1345.00000</td>\n",
       "      <td>1.0</td>\n",
       "    </tr>\n",
       "    <tr>\n",
       "      <th>max</th>\n",
       "      <td>1821.00000</td>\n",
       "      <td>1.0</td>\n",
       "    </tr>\n",
       "  </tbody>\n",
       "</table>\n",
       "</div>"
      ],
      "text/plain": [
       "           mkm_id  onlineOnly\n",
       "count   161.00000         6.0\n",
       "mean    550.78882         1.0\n",
       "std     666.76967         0.0\n",
       "min       1.00000         1.0\n",
       "25%      41.00000         1.0\n",
       "50%      95.00000         1.0\n",
       "75%    1345.00000         1.0\n",
       "max    1821.00000         1.0"
      ]
     },
     "execution_count": 9,
     "metadata": {},
     "output_type": "execute_result"
    }
   ],
   "source": [
    "all_sets.describe()"
   ]
  },
  {
   "cell_type": "markdown",
   "metadata": {
    "_cell_guid": "5a6cc501-9118-4f7c-9bb9-4019bd368739",
    "_uuid": "b598629000194ef16d72412341ed3f4015395652"
   },
   "source": [
    "The `describe` method doesn't provide much useful information here, since so far, the only numeric columns of `all_sets` are the set's id number on the Magic vendor [MagicCardMarket](https://www.cardmarket.com/en/Magic), and a column indicating whether or not the set is only available online. The bulk of the useful data in this DataFrame is contained in the `cards` column, which holds a JSON object containing all the cards in each set. We can convert each element of the `cards` column into a pandas DataFrame using the `json` library in Python and `read_json`:"
   ]
  },
  {
   "cell_type": "code",
   "execution_count": 10,
   "metadata": {
    "_cell_guid": "b7fe4b99-8fcf-4712-b42d-334ee830326e",
    "_uuid": "80a6bc783e64b46c1c31c5372e032659068d2e2b",
    "collapsed": true
   },
   "outputs": [],
   "source": [
    "# the cards column contains the cards of each set in json format, so each set of cards can be\n",
    "# converted from a json object into a DataFrame\n",
    "all_sets.cards = all_sets.cards.apply(lambda x: pd.read_json(json.dumps(x), orient = \"records\"))"
   ]
  },
  {
   "cell_type": "code",
   "execution_count": 12,
   "metadata": {
    "_cell_guid": "d78f4857-982a-4415-b7f3-c1561d572fbb",
    "_uuid": "82ba5ffd7d8aaf4cde153a9ee887b7a724de9c26"
   },
   "outputs": [
    {
     "data": {
      "text/html": [
       "<div>\n",
       "<style scoped>\n",
       "    .dataframe tbody tr th:only-of-type {\n",
       "        vertical-align: middle;\n",
       "    }\n",
       "\n",
       "    .dataframe tbody tr th {\n",
       "        vertical-align: top;\n",
       "    }\n",
       "\n",
       "    .dataframe thead th {\n",
       "        text-align: right;\n",
       "    }\n",
       "</style>\n",
       "<table border=\"1\" class=\"dataframe\">\n",
       "  <thead>\n",
       "    <tr style=\"text-align: right;\">\n",
       "      <th></th>\n",
       "      <th>artist</th>\n",
       "      <th>cmc</th>\n",
       "      <th>colorIdentity</th>\n",
       "      <th>colors</th>\n",
       "      <th>flavor</th>\n",
       "      <th>id</th>\n",
       "      <th>imageName</th>\n",
       "      <th>layout</th>\n",
       "      <th>loyalty</th>\n",
       "      <th>manaCost</th>\n",
       "      <th>...</th>\n",
       "      <th>power</th>\n",
       "      <th>rarity</th>\n",
       "      <th>subtypes</th>\n",
       "      <th>supertypes</th>\n",
       "      <th>text</th>\n",
       "      <th>toughness</th>\n",
       "      <th>type</th>\n",
       "      <th>types</th>\n",
       "      <th>variations</th>\n",
       "      <th>watermark</th>\n",
       "    </tr>\n",
       "  </thead>\n",
       "  <tbody>\n",
       "    <tr>\n",
       "      <th>0</th>\n",
       "      <td>Anna Steinbauer</td>\n",
       "      <td>2</td>\n",
       "      <td>[W]</td>\n",
       "      <td>[White]</td>\n",
       "      <td>NaN</td>\n",
       "      <td>ccbc0aca09ec754dd5dc97081315dfdff1748132</td>\n",
       "      <td>adanto vanguard</td>\n",
       "      <td>normal</td>\n",
       "      <td>NaN</td>\n",
       "      <td>{1}{W}</td>\n",
       "      <td>...</td>\n",
       "      <td>1</td>\n",
       "      <td>Uncommon</td>\n",
       "      <td>[Vampire, Soldier]</td>\n",
       "      <td>NaN</td>\n",
       "      <td>As long as Adanto Vanguard is attacking, it ge...</td>\n",
       "      <td>1</td>\n",
       "      <td>Creature â€” Vampire Soldier</td>\n",
       "      <td>[Creature]</td>\n",
       "      <td>NaN</td>\n",
       "      <td>NaN</td>\n",
       "    </tr>\n",
       "    <tr>\n",
       "      <th>1</th>\n",
       "      <td>Daarken</td>\n",
       "      <td>2</td>\n",
       "      <td>[W]</td>\n",
       "      <td>[White]</td>\n",
       "      <td>\"Let no trace of the vampires' foulness remain.\"</td>\n",
       "      <td>72ddf16814624e0f8b17ca27edc1a5f36fb97940</td>\n",
       "      <td>ashes of the abhorrent</td>\n",
       "      <td>normal</td>\n",
       "      <td>NaN</td>\n",
       "      <td>{1}{W}</td>\n",
       "      <td>...</td>\n",
       "      <td>NaN</td>\n",
       "      <td>Rare</td>\n",
       "      <td>NaN</td>\n",
       "      <td>NaN</td>\n",
       "      <td>Players can't cast spells from graveyards or a...</td>\n",
       "      <td>NaN</td>\n",
       "      <td>Enchantment</td>\n",
       "      <td>[Enchantment]</td>\n",
       "      <td>NaN</td>\n",
       "      <td>NaN</td>\n",
       "    </tr>\n",
       "    <tr>\n",
       "      <th>2</th>\n",
       "      <td>Bastien L. Deharme</td>\n",
       "      <td>6</td>\n",
       "      <td>[W]</td>\n",
       "      <td>[White]</td>\n",
       "      <td>The Church of Dusk teaches there is no gain wi...</td>\n",
       "      <td>2394619c861df214c47e11f5649285ac24b214f4</td>\n",
       "      <td>axis of mortality</td>\n",
       "      <td>normal</td>\n",
       "      <td>NaN</td>\n",
       "      <td>{4}{W}{W}</td>\n",
       "      <td>...</td>\n",
       "      <td>NaN</td>\n",
       "      <td>Mythic Rare</td>\n",
       "      <td>NaN</td>\n",
       "      <td>NaN</td>\n",
       "      <td>At the beginning of your upkeep, you may have ...</td>\n",
       "      <td>NaN</td>\n",
       "      <td>Enchantment</td>\n",
       "      <td>[Enchantment]</td>\n",
       "      <td>NaN</td>\n",
       "      <td>NaN</td>\n",
       "    </tr>\n",
       "    <tr>\n",
       "      <th>3</th>\n",
       "      <td>Craig J Spearing</td>\n",
       "      <td>6</td>\n",
       "      <td>[W]</td>\n",
       "      <td>[White]</td>\n",
       "      <td>Its roaring challenge is punctuated by the sla...</td>\n",
       "      <td>f718ef8994d5c549346402f1c1a222f678322ec4</td>\n",
       "      <td>bellowing aegisaur</td>\n",
       "      <td>normal</td>\n",
       "      <td>NaN</td>\n",
       "      <td>{5}{W}</td>\n",
       "      <td>...</td>\n",
       "      <td>3</td>\n",
       "      <td>Uncommon</td>\n",
       "      <td>[Dinosaur]</td>\n",
       "      <td>NaN</td>\n",
       "      <td>Enrage â€” Whenever Bellowing Aegisaur is deal...</td>\n",
       "      <td>5</td>\n",
       "      <td>Creature â€” Dinosaur</td>\n",
       "      <td>[Creature]</td>\n",
       "      <td>NaN</td>\n",
       "      <td>NaN</td>\n",
       "    </tr>\n",
       "    <tr>\n",
       "      <th>4</th>\n",
       "      <td>Tommy Arnold</td>\n",
       "      <td>5</td>\n",
       "      <td>[W]</td>\n",
       "      <td>[White]</td>\n",
       "      <td>\"In the death of the foe lies the resurrection...</td>\n",
       "      <td>4b9e8723efc4be5c760b251edee3023a8bbb3d83</td>\n",
       "      <td>bishop of rebirth</td>\n",
       "      <td>normal</td>\n",
       "      <td>NaN</td>\n",
       "      <td>{3}{W}{W}</td>\n",
       "      <td>...</td>\n",
       "      <td>3</td>\n",
       "      <td>Rare</td>\n",
       "      <td>[Vampire, Cleric]</td>\n",
       "      <td>NaN</td>\n",
       "      <td>Vigilance\\nWhenever Bishop of Rebirth attacks,...</td>\n",
       "      <td>4</td>\n",
       "      <td>Creature â€” Vampire Cleric</td>\n",
       "      <td>[Creature]</td>\n",
       "      <td>NaN</td>\n",
       "      <td>NaN</td>\n",
       "    </tr>\n",
       "  </tbody>\n",
       "</table>\n",
       "<p>5 rows × 25 columns</p>\n",
       "</div>"
      ],
      "text/plain": [
       "               artist  cmc colorIdentity   colors  \\\n",
       "0     Anna Steinbauer    2           [W]  [White]   \n",
       "1             Daarken    2           [W]  [White]   \n",
       "2  Bastien L. Deharme    6           [W]  [White]   \n",
       "3    Craig J Spearing    6           [W]  [White]   \n",
       "4        Tommy Arnold    5           [W]  [White]   \n",
       "\n",
       "                                              flavor  \\\n",
       "0                                                NaN   \n",
       "1   \"Let no trace of the vampires' foulness remain.\"   \n",
       "2  The Church of Dusk teaches there is no gain wi...   \n",
       "3  Its roaring challenge is punctuated by the sla...   \n",
       "4  \"In the death of the foe lies the resurrection...   \n",
       "\n",
       "                                         id               imageName  layout  \\\n",
       "0  ccbc0aca09ec754dd5dc97081315dfdff1748132         adanto vanguard  normal   \n",
       "1  72ddf16814624e0f8b17ca27edc1a5f36fb97940  ashes of the abhorrent  normal   \n",
       "2  2394619c861df214c47e11f5649285ac24b214f4       axis of mortality  normal   \n",
       "3  f718ef8994d5c549346402f1c1a222f678322ec4      bellowing aegisaur  normal   \n",
       "4  4b9e8723efc4be5c760b251edee3023a8bbb3d83       bishop of rebirth  normal   \n",
       "\n",
       "   loyalty   manaCost    ...    power       rarity            subtypes  \\\n",
       "0      NaN     {1}{W}    ...        1     Uncommon  [Vampire, Soldier]   \n",
       "1      NaN     {1}{W}    ...      NaN         Rare                 NaN   \n",
       "2      NaN  {4}{W}{W}    ...      NaN  Mythic Rare                 NaN   \n",
       "3      NaN     {5}{W}    ...        3     Uncommon          [Dinosaur]   \n",
       "4      NaN  {3}{W}{W}    ...        3         Rare   [Vampire, Cleric]   \n",
       "\n",
       "  supertypes                                               text toughness  \\\n",
       "0        NaN  As long as Adanto Vanguard is attacking, it ge...         1   \n",
       "1        NaN  Players can't cast spells from graveyards or a...       NaN   \n",
       "2        NaN  At the beginning of your upkeep, you may have ...       NaN   \n",
       "3        NaN  Enrage â€” Whenever Bellowing Aegisaur is deal...         5   \n",
       "4        NaN  Vigilance\\nWhenever Bishop of Rebirth attacks,...         4   \n",
       "\n",
       "                           type          types variations watermark  \n",
       "0  Creature â€” Vampire Soldier     [Creature]        NaN       NaN  \n",
       "1                   Enchantment  [Enchantment]        NaN       NaN  \n",
       "2                   Enchantment  [Enchantment]        NaN       NaN  \n",
       "3         Creature â€” Dinosaur     [Creature]        NaN       NaN  \n",
       "4   Creature â€” Vampire Cleric     [Creature]        NaN       NaN  \n",
       "\n",
       "[5 rows x 25 columns]"
      ]
     },
     "execution_count": 12,
     "metadata": {},
     "output_type": "execute_result"
    }
   ],
   "source": [
    "# check the first 5 cards in the Dataframe containing cards from the Ixalan set\n",
    "all_sets.cards[\"XLN\"].head()"
   ]
  },
  {
   "cell_type": "code",
   "execution_count": 13,
   "metadata": {
    "_cell_guid": "95be68d6-b5e4-469f-8b3f-2d7b4a2c6038",
    "_uuid": "05acba9387b94a6697393d9c0eabb607fd259734"
   },
   "outputs": [
    {
     "data": {
      "text/plain": [
       "(299, 25)"
      ]
     },
     "execution_count": 13,
     "metadata": {},
     "output_type": "execute_result"
    }
   ],
   "source": [
    "# the first entry in this Dataframe's shape gives the number of cards in the set\n",
    "all_sets.cards[\"XLN\"].shape"
   ]
  },
  {
   "cell_type": "markdown",
   "metadata": {
    "_cell_guid": "2094ae43-5070-45c0-826f-8798a4285cc8",
    "_uuid": "83bddf4ecb1bca1916d0608ecc953b3c14bf3e23"
   },
   "source": [
    "Before cleaning the data, we'll add a relevant numeric column to `all_sets` - the number of cards in each set, which we'll call `setSize`. Each row of each DataFrame in `cards` is one card, so the number of rows gives the number of cards in the set - in the example above, we can see that the set Ravnica: City of Guilds contains 306 cards."
   ]
  },
  {
   "cell_type": "code",
   "execution_count": 14,
   "metadata": {
    "_cell_guid": "c5041ff3-6c29-4dd1-849f-185390bd4c9a",
    "_uuid": "fac931e71c4984cd1bef007a715cef1cc88fb760"
   },
   "outputs": [
    {
     "data": {
      "text/html": [
       "<div>\n",
       "<style scoped>\n",
       "    .dataframe tbody tr th:only-of-type {\n",
       "        vertical-align: middle;\n",
       "    }\n",
       "\n",
       "    .dataframe tbody tr th {\n",
       "        vertical-align: top;\n",
       "    }\n",
       "\n",
       "    .dataframe thead th {\n",
       "        text-align: right;\n",
       "    }\n",
       "</style>\n",
       "<table border=\"1\" class=\"dataframe\">\n",
       "  <thead>\n",
       "    <tr style=\"text-align: right;\">\n",
       "      <th></th>\n",
       "      <th>alternativeNames</th>\n",
       "      <th>block</th>\n",
       "      <th>booster</th>\n",
       "      <th>border</th>\n",
       "      <th>cards</th>\n",
       "      <th>code</th>\n",
       "      <th>gathererCode</th>\n",
       "      <th>magicCardsInfoCode</th>\n",
       "      <th>magicRaritiesCodes</th>\n",
       "      <th>mkm_id</th>\n",
       "      <th>mkm_name</th>\n",
       "      <th>name</th>\n",
       "      <th>oldCode</th>\n",
       "      <th>onlineOnly</th>\n",
       "      <th>releaseDate</th>\n",
       "      <th>translations</th>\n",
       "      <th>type</th>\n",
       "      <th>setSize</th>\n",
       "    </tr>\n",
       "  </thead>\n",
       "  <tbody>\n",
       "    <tr>\n",
       "      <th>EVE</th>\n",
       "      <td>NaN</td>\n",
       "      <td>Shadowmoor</td>\n",
       "      <td>[rare, uncommon, uncommon, uncommon, common, c...</td>\n",
       "      <td>black</td>\n",
       "      <td>artist  cmc colorIdentity     ...</td>\n",
       "      <td>EVE</td>\n",
       "      <td>NaN</td>\n",
       "      <td>eve</td>\n",
       "      <td>NaN</td>\n",
       "      <td>99.0</td>\n",
       "      <td>Eventide</td>\n",
       "      <td>Eventide</td>\n",
       "      <td>NaN</td>\n",
       "      <td>NaN</td>\n",
       "      <td>2008-07-25</td>\n",
       "      <td>{'de': 'AbendkÃ¼hle', 'fr': 'Coucheciel', 'it'...</td>\n",
       "      <td>expansion</td>\n",
       "      <td>180</td>\n",
       "    </tr>\n",
       "    <tr>\n",
       "      <th>CEI</th>\n",
       "      <td>NaN</td>\n",
       "      <td>NaN</td>\n",
       "      <td>NaN</td>\n",
       "      <td>black</td>\n",
       "      <td>artist  cmc colorIdentity   col...</td>\n",
       "      <td>CEI</td>\n",
       "      <td>NaN</td>\n",
       "      <td>cedi</td>\n",
       "      <td>NaN</td>\n",
       "      <td>77.0</td>\n",
       "      <td>International Edition</td>\n",
       "      <td>International Collector's Edition</td>\n",
       "      <td>NaN</td>\n",
       "      <td>NaN</td>\n",
       "      <td>1993-12-01</td>\n",
       "      <td>NaN</td>\n",
       "      <td>reprint</td>\n",
       "      <td>302</td>\n",
       "    </tr>\n",
       "    <tr>\n",
       "      <th>p2HG</th>\n",
       "      <td>NaN</td>\n",
       "      <td>NaN</td>\n",
       "      <td>NaN</td>\n",
       "      <td>black</td>\n",
       "      <td>artist  cmc colorIdentity   colors  \\\n",
       "...</td>\n",
       "      <td>p2HG</td>\n",
       "      <td>NaN</td>\n",
       "      <td>thgt</td>\n",
       "      <td>[13-rarities-two-headed-giant]</td>\n",
       "      <td>NaN</td>\n",
       "      <td>NaN</td>\n",
       "      <td>Two-Headed Giant Tournament</td>\n",
       "      <td>NaN</td>\n",
       "      <td>NaN</td>\n",
       "      <td>2005-12-09</td>\n",
       "      <td>NaN</td>\n",
       "      <td>promo</td>\n",
       "      <td>1</td>\n",
       "    </tr>\n",
       "    <tr>\n",
       "      <th>V13</th>\n",
       "      <td>NaN</td>\n",
       "      <td>NaN</td>\n",
       "      <td>NaN</td>\n",
       "      <td>black</td>\n",
       "      <td>artist  cmc colorIdentity       ...</td>\n",
       "      <td>V13</td>\n",
       "      <td>NaN</td>\n",
       "      <td>v13</td>\n",
       "      <td>NaN</td>\n",
       "      <td>1455.0</td>\n",
       "      <td>From the Vault: Twenty</td>\n",
       "      <td>From the Vault: Twenty</td>\n",
       "      <td>NaN</td>\n",
       "      <td>NaN</td>\n",
       "      <td>2013-08-23</td>\n",
       "      <td>NaN</td>\n",
       "      <td>from the vault</td>\n",
       "      <td>20</td>\n",
       "    </tr>\n",
       "    <tr>\n",
       "      <th>MBS</th>\n",
       "      <td>NaN</td>\n",
       "      <td>Scars of Mirrodin</td>\n",
       "      <td>[[rare, mythic rare], uncommon, uncommon, unco...</td>\n",
       "      <td>black</td>\n",
       "      <td>artist  cmc colorI...</td>\n",
       "      <td>MBS</td>\n",
       "      <td>NaN</td>\n",
       "      <td>mbs</td>\n",
       "      <td>NaN</td>\n",
       "      <td>1253.0</td>\n",
       "      <td>Mirrodin Besieged</td>\n",
       "      <td>Mirrodin Besieged</td>\n",
       "      <td>NaN</td>\n",
       "      <td>NaN</td>\n",
       "      <td>2011-02-04</td>\n",
       "      <td>{'de': 'Belagertes Mirrodin', 'fr': 'Mirrodin ...</td>\n",
       "      <td>expansion</td>\n",
       "      <td>155</td>\n",
       "    </tr>\n",
       "  </tbody>\n",
       "</table>\n",
       "</div>"
      ],
      "text/plain": [
       "     alternativeNames              block  \\\n",
       "EVE               NaN         Shadowmoor   \n",
       "CEI               NaN                NaN   \n",
       "p2HG              NaN                NaN   \n",
       "V13               NaN                NaN   \n",
       "MBS               NaN  Scars of Mirrodin   \n",
       "\n",
       "                                                booster border  \\\n",
       "EVE   [rare, uncommon, uncommon, uncommon, common, c...  black   \n",
       "CEI                                                 NaN  black   \n",
       "p2HG                                                NaN  black   \n",
       "V13                                                 NaN  black   \n",
       "MBS   [[rare, mythic rare], uncommon, uncommon, unco...  black   \n",
       "\n",
       "                                                  cards  code gathererCode  \\\n",
       "EVE                   artist  cmc colorIdentity     ...   EVE          NaN   \n",
       "CEI                  artist  cmc colorIdentity   col...   CEI          NaN   \n",
       "p2HG          artist  cmc colorIdentity   colors  \\\n",
       "...  p2HG          NaN   \n",
       "V13                 artist  cmc colorIdentity       ...   V13          NaN   \n",
       "MBS                               artist  cmc colorI...   MBS          NaN   \n",
       "\n",
       "     magicCardsInfoCode              magicRaritiesCodes  mkm_id  \\\n",
       "EVE                 eve                             NaN    99.0   \n",
       "CEI                cedi                             NaN    77.0   \n",
       "p2HG               thgt  [13-rarities-two-headed-giant]     NaN   \n",
       "V13                 v13                             NaN  1455.0   \n",
       "MBS                 mbs                             NaN  1253.0   \n",
       "\n",
       "                    mkm_name                               name oldCode  \\\n",
       "EVE                 Eventide                           Eventide     NaN   \n",
       "CEI    International Edition  International Collector's Edition     NaN   \n",
       "p2HG                     NaN        Two-Headed Giant Tournament     NaN   \n",
       "V13   From the Vault: Twenty             From the Vault: Twenty     NaN   \n",
       "MBS        Mirrodin Besieged                  Mirrodin Besieged     NaN   \n",
       "\n",
       "      onlineOnly releaseDate  \\\n",
       "EVE          NaN  2008-07-25   \n",
       "CEI          NaN  1993-12-01   \n",
       "p2HG         NaN  2005-12-09   \n",
       "V13          NaN  2013-08-23   \n",
       "MBS          NaN  2011-02-04   \n",
       "\n",
       "                                           translations            type  \\\n",
       "EVE   {'de': 'AbendkÃ¼hle', 'fr': 'Coucheciel', 'it'...       expansion   \n",
       "CEI                                                 NaN         reprint   \n",
       "p2HG                                                NaN           promo   \n",
       "V13                                                 NaN  from the vault   \n",
       "MBS   {'de': 'Belagertes Mirrodin', 'fr': 'Mirrodin ...       expansion   \n",
       "\n",
       "      setSize  \n",
       "EVE       180  \n",
       "CEI       302  \n",
       "p2HG        1  \n",
       "V13        20  \n",
       "MBS       155  "
      ]
     },
     "execution_count": 14,
     "metadata": {},
     "output_type": "execute_result"
    }
   ],
   "source": [
    "all_sets[\"setSize\"] = all_sets.apply(lambda x: x.cards.shape[0], axis = 1)\n",
    "all_sets.sample(5)"
   ]
  },
  {
   "cell_type": "code",
   "execution_count": 11,
   "metadata": {
    "collapsed": true,
    "scrolled": false
   },
   "outputs": [],
   "source": [
    "all_sets[\"releaseDate\"] = pd.to_datetime(all_sets[\"releaseDate\"])"
   ]
  },
  {
   "cell_type": "code",
   "execution_count": 12,
   "metadata": {},
   "outputs": [
    {
     "data": {
      "text/html": [
       "<div>\n",
       "<style scoped>\n",
       "    .dataframe tbody tr th:only-of-type {\n",
       "        vertical-align: middle;\n",
       "    }\n",
       "\n",
       "    .dataframe tbody tr th {\n",
       "        vertical-align: top;\n",
       "    }\n",
       "\n",
       "    .dataframe thead th {\n",
       "        text-align: right;\n",
       "    }\n",
       "</style>\n",
       "<table border=\"1\" class=\"dataframe\">\n",
       "  <thead>\n",
       "    <tr style=\"text-align: right;\">\n",
       "      <th></th>\n",
       "      <th>name</th>\n",
       "      <th>releaseDate</th>\n",
       "    </tr>\n",
       "  </thead>\n",
       "  <tbody>\n",
       "    <tr>\n",
       "      <th>LEA</th>\n",
       "      <td>Limited Edition Alpha</td>\n",
       "      <td>1993-08-05</td>\n",
       "    </tr>\n",
       "    <tr>\n",
       "      <th>LEB</th>\n",
       "      <td>Limited Edition Beta</td>\n",
       "      <td>1993-10-01</td>\n",
       "    </tr>\n",
       "    <tr>\n",
       "      <th>2ED</th>\n",
       "      <td>Unlimited Edition</td>\n",
       "      <td>1993-12-01</td>\n",
       "    </tr>\n",
       "    <tr>\n",
       "      <th>CEI</th>\n",
       "      <td>International Collector's Edition</td>\n",
       "      <td>1993-12-01</td>\n",
       "    </tr>\n",
       "    <tr>\n",
       "      <th>CED</th>\n",
       "      <td>Collector's Edition</td>\n",
       "      <td>1993-12-01</td>\n",
       "    </tr>\n",
       "    <tr>\n",
       "      <th>ARN</th>\n",
       "      <td>Arabian Nights</td>\n",
       "      <td>1993-12-01</td>\n",
       "    </tr>\n",
       "    <tr>\n",
       "      <th>pDRC</th>\n",
       "      <td>Dragon Con</td>\n",
       "      <td>1994-01-01</td>\n",
       "    </tr>\n",
       "    <tr>\n",
       "      <th>ATQ</th>\n",
       "      <td>Antiquities</td>\n",
       "      <td>1994-03-01</td>\n",
       "    </tr>\n",
       "    <tr>\n",
       "      <th>3ED</th>\n",
       "      <td>Revised Edition</td>\n",
       "      <td>1994-04-01</td>\n",
       "    </tr>\n",
       "    <tr>\n",
       "      <th>LEG</th>\n",
       "      <td>Legends</td>\n",
       "      <td>1994-06-01</td>\n",
       "    </tr>\n",
       "    <tr>\n",
       "      <th>DRK</th>\n",
       "      <td>The Dark</td>\n",
       "      <td>1994-08-01</td>\n",
       "    </tr>\n",
       "    <tr>\n",
       "      <th>FEM</th>\n",
       "      <td>Fallen Empires</td>\n",
       "      <td>1994-11-01</td>\n",
       "    </tr>\n",
       "    <tr>\n",
       "      <th>pLGM</th>\n",
       "      <td>Legend Membership</td>\n",
       "      <td>1995-01-01</td>\n",
       "    </tr>\n",
       "    <tr>\n",
       "      <th>pMEI</th>\n",
       "      <td>Media Inserts</td>\n",
       "      <td>1995-01-01</td>\n",
       "    </tr>\n",
       "    <tr>\n",
       "      <th>4ED</th>\n",
       "      <td>Fourth Edition</td>\n",
       "      <td>1995-04-01</td>\n",
       "    </tr>\n",
       "    <tr>\n",
       "      <th>ICE</th>\n",
       "      <td>Ice Age</td>\n",
       "      <td>1995-06-01</td>\n",
       "    </tr>\n",
       "    <tr>\n",
       "      <th>CHR</th>\n",
       "      <td>Chronicles</td>\n",
       "      <td>1995-07-01</td>\n",
       "    </tr>\n",
       "    <tr>\n",
       "      <th>HML</th>\n",
       "      <td>Homelands</td>\n",
       "      <td>1995-10-01</td>\n",
       "    </tr>\n",
       "    <tr>\n",
       "      <th>ALL</th>\n",
       "      <td>Alliances</td>\n",
       "      <td>1996-06-10</td>\n",
       "    </tr>\n",
       "    <tr>\n",
       "      <th>RQS</th>\n",
       "      <td>Rivals Quick Start Set</td>\n",
       "      <td>1996-07-01</td>\n",
       "    </tr>\n",
       "    <tr>\n",
       "      <th>pARL</th>\n",
       "      <td>Arena League</td>\n",
       "      <td>1996-08-02</td>\n",
       "    </tr>\n",
       "    <tr>\n",
       "      <th>pCEL</th>\n",
       "      <td>Celebration</td>\n",
       "      <td>1996-08-14</td>\n",
       "    </tr>\n",
       "    <tr>\n",
       "      <th>MIR</th>\n",
       "      <td>Mirage</td>\n",
       "      <td>1996-10-08</td>\n",
       "    </tr>\n",
       "    <tr>\n",
       "      <th>MGB</th>\n",
       "      <td>Multiverse Gift Box</td>\n",
       "      <td>1996-11-01</td>\n",
       "    </tr>\n",
       "    <tr>\n",
       "      <th>ITP</th>\n",
       "      <td>Introductory Two-Player Set</td>\n",
       "      <td>1996-12-31</td>\n",
       "    </tr>\n",
       "    <tr>\n",
       "      <th>VIS</th>\n",
       "      <td>Visions</td>\n",
       "      <td>1997-02-03</td>\n",
       "    </tr>\n",
       "    <tr>\n",
       "      <th>5ED</th>\n",
       "      <td>Fifth Edition</td>\n",
       "      <td>1997-03-24</td>\n",
       "    </tr>\n",
       "    <tr>\n",
       "      <th>pPOD</th>\n",
       "      <td>Portal Demo Game</td>\n",
       "      <td>1997-05-01</td>\n",
       "    </tr>\n",
       "    <tr>\n",
       "      <th>VAN</th>\n",
       "      <td>Vanguard</td>\n",
       "      <td>1997-05-01</td>\n",
       "    </tr>\n",
       "    <tr>\n",
       "      <th>POR</th>\n",
       "      <td>Portal</td>\n",
       "      <td>1997-05-01</td>\n",
       "    </tr>\n",
       "    <tr>\n",
       "      <th>...</th>\n",
       "      <td>...</td>\n",
       "      <td>...</td>\n",
       "    </tr>\n",
       "    <tr>\n",
       "      <th>DDN</th>\n",
       "      <td>Duel Decks: Speed vs. Cunning</td>\n",
       "      <td>2014-09-05</td>\n",
       "    </tr>\n",
       "    <tr>\n",
       "      <th>KTK</th>\n",
       "      <td>Khans of Tarkir</td>\n",
       "      <td>2014-09-26</td>\n",
       "    </tr>\n",
       "    <tr>\n",
       "      <th>C14</th>\n",
       "      <td>Commander 2014</td>\n",
       "      <td>2014-11-07</td>\n",
       "    </tr>\n",
       "    <tr>\n",
       "      <th>DD3_DVD</th>\n",
       "      <td>Duel Decks Anthology, Divine vs. Demonic</td>\n",
       "      <td>2014-12-05</td>\n",
       "    </tr>\n",
       "    <tr>\n",
       "      <th>DD3_EVG</th>\n",
       "      <td>Duel Decks Anthology, Elves vs. Goblins</td>\n",
       "      <td>2014-12-05</td>\n",
       "    </tr>\n",
       "    <tr>\n",
       "      <th>DD3_JVC</th>\n",
       "      <td>Duel Decks Anthology, Jace vs. Chandra</td>\n",
       "      <td>2014-12-05</td>\n",
       "    </tr>\n",
       "    <tr>\n",
       "      <th>DD3_GVL</th>\n",
       "      <td>Duel Decks Anthology, Garruk vs. Liliana</td>\n",
       "      <td>2014-12-05</td>\n",
       "    </tr>\n",
       "    <tr>\n",
       "      <th>FRF_UGIN</th>\n",
       "      <td>Ugin's Fate promos</td>\n",
       "      <td>2015-01-17</td>\n",
       "    </tr>\n",
       "    <tr>\n",
       "      <th>FRF</th>\n",
       "      <td>Fate Reforged</td>\n",
       "      <td>2015-01-23</td>\n",
       "    </tr>\n",
       "    <tr>\n",
       "      <th>DDO</th>\n",
       "      <td>Duel Decks: Elspeth vs. Kiora</td>\n",
       "      <td>2015-02-27</td>\n",
       "    </tr>\n",
       "    <tr>\n",
       "      <th>DTK</th>\n",
       "      <td>Dragons of Tarkir</td>\n",
       "      <td>2015-03-27</td>\n",
       "    </tr>\n",
       "    <tr>\n",
       "      <th>TPR</th>\n",
       "      <td>Tempest Remastered</td>\n",
       "      <td>2015-05-06</td>\n",
       "    </tr>\n",
       "    <tr>\n",
       "      <th>MM2</th>\n",
       "      <td>Modern Masters 2015 Edition</td>\n",
       "      <td>2015-05-22</td>\n",
       "    </tr>\n",
       "    <tr>\n",
       "      <th>ORI</th>\n",
       "      <td>Magic Origins</td>\n",
       "      <td>2015-07-17</td>\n",
       "    </tr>\n",
       "    <tr>\n",
       "      <th>V15</th>\n",
       "      <td>From the Vault: Angels</td>\n",
       "      <td>2015-08-21</td>\n",
       "    </tr>\n",
       "    <tr>\n",
       "      <th>DDP</th>\n",
       "      <td>Duel Decks: Zendikar vs. Eldrazi</td>\n",
       "      <td>2015-08-28</td>\n",
       "    </tr>\n",
       "    <tr>\n",
       "      <th>BFZ</th>\n",
       "      <td>Battle for Zendikar</td>\n",
       "      <td>2015-10-02</td>\n",
       "    </tr>\n",
       "    <tr>\n",
       "      <th>EXP</th>\n",
       "      <td>Zendikar Expeditions</td>\n",
       "      <td>2015-10-02</td>\n",
       "    </tr>\n",
       "    <tr>\n",
       "      <th>C15</th>\n",
       "      <td>Commander 2015</td>\n",
       "      <td>2015-11-13</td>\n",
       "    </tr>\n",
       "    <tr>\n",
       "      <th>OGW</th>\n",
       "      <td>Oath of the Gatewatch</td>\n",
       "      <td>2016-01-22</td>\n",
       "    </tr>\n",
       "    <tr>\n",
       "      <th>DDQ</th>\n",
       "      <td>Duel Decks: Blessed vs. Cursed</td>\n",
       "      <td>2016-02-26</td>\n",
       "    </tr>\n",
       "    <tr>\n",
       "      <th>SOI</th>\n",
       "      <td>Shadows over Innistrad</td>\n",
       "      <td>2016-04-08</td>\n",
       "    </tr>\n",
       "    <tr>\n",
       "      <th>W16</th>\n",
       "      <td>Welcome Deck 2016</td>\n",
       "      <td>2016-04-08</td>\n",
       "    </tr>\n",
       "    <tr>\n",
       "      <th>EMA</th>\n",
       "      <td>Eternal Masters</td>\n",
       "      <td>2016-06-10</td>\n",
       "    </tr>\n",
       "    <tr>\n",
       "      <th>EMN</th>\n",
       "      <td>Eldritch Moon</td>\n",
       "      <td>2016-07-22</td>\n",
       "    </tr>\n",
       "    <tr>\n",
       "      <th>V16</th>\n",
       "      <td>From the Vault: Lore</td>\n",
       "      <td>2016-08-19</td>\n",
       "    </tr>\n",
       "    <tr>\n",
       "      <th>CN2</th>\n",
       "      <td>Conspiracy: Take the Crown</td>\n",
       "      <td>2016-08-26</td>\n",
       "    </tr>\n",
       "    <tr>\n",
       "      <th>DDR</th>\n",
       "      <td>Duel Decks: Nissa vs. Ob Nixilis</td>\n",
       "      <td>2016-09-02</td>\n",
       "    </tr>\n",
       "    <tr>\n",
       "      <th>MPS</th>\n",
       "      <td>Kaladesh Inventions</td>\n",
       "      <td>2016-09-30</td>\n",
       "    </tr>\n",
       "    <tr>\n",
       "      <th>KLD</th>\n",
       "      <td>Kaladesh</td>\n",
       "      <td>2016-09-30</td>\n",
       "    </tr>\n",
       "  </tbody>\n",
       "</table>\n",
       "<p>199 rows × 2 columns</p>\n",
       "</div>"
      ],
      "text/plain": [
       "                                              name releaseDate\n",
       "LEA                          Limited Edition Alpha  1993-08-05\n",
       "LEB                           Limited Edition Beta  1993-10-01\n",
       "2ED                              Unlimited Edition  1993-12-01\n",
       "CEI              International Collector's Edition  1993-12-01\n",
       "CED                            Collector's Edition  1993-12-01\n",
       "ARN                                 Arabian Nights  1993-12-01\n",
       "pDRC                                    Dragon Con  1994-01-01\n",
       "ATQ                                    Antiquities  1994-03-01\n",
       "3ED                                Revised Edition  1994-04-01\n",
       "LEG                                        Legends  1994-06-01\n",
       "DRK                                       The Dark  1994-08-01\n",
       "FEM                                 Fallen Empires  1994-11-01\n",
       "pLGM                             Legend Membership  1995-01-01\n",
       "pMEI                                 Media Inserts  1995-01-01\n",
       "4ED                                 Fourth Edition  1995-04-01\n",
       "ICE                                        Ice Age  1995-06-01\n",
       "CHR                                     Chronicles  1995-07-01\n",
       "HML                                      Homelands  1995-10-01\n",
       "ALL                                      Alliances  1996-06-10\n",
       "RQS                         Rivals Quick Start Set  1996-07-01\n",
       "pARL                                  Arena League  1996-08-02\n",
       "pCEL                                   Celebration  1996-08-14\n",
       "MIR                                         Mirage  1996-10-08\n",
       "MGB                            Multiverse Gift Box  1996-11-01\n",
       "ITP                    Introductory Two-Player Set  1996-12-31\n",
       "VIS                                        Visions  1997-02-03\n",
       "5ED                                  Fifth Edition  1997-03-24\n",
       "pPOD                              Portal Demo Game  1997-05-01\n",
       "VAN                                       Vanguard  1997-05-01\n",
       "POR                                         Portal  1997-05-01\n",
       "...                                            ...         ...\n",
       "DDN                  Duel Decks: Speed vs. Cunning  2014-09-05\n",
       "KTK                                Khans of Tarkir  2014-09-26\n",
       "C14                                 Commander 2014  2014-11-07\n",
       "DD3_DVD   Duel Decks Anthology, Divine vs. Demonic  2014-12-05\n",
       "DD3_EVG    Duel Decks Anthology, Elves vs. Goblins  2014-12-05\n",
       "DD3_JVC     Duel Decks Anthology, Jace vs. Chandra  2014-12-05\n",
       "DD3_GVL   Duel Decks Anthology, Garruk vs. Liliana  2014-12-05\n",
       "FRF_UGIN                        Ugin's Fate promos  2015-01-17\n",
       "FRF                                  Fate Reforged  2015-01-23\n",
       "DDO                  Duel Decks: Elspeth vs. Kiora  2015-02-27\n",
       "DTK                              Dragons of Tarkir  2015-03-27\n",
       "TPR                             Tempest Remastered  2015-05-06\n",
       "MM2                    Modern Masters 2015 Edition  2015-05-22\n",
       "ORI                                  Magic Origins  2015-07-17\n",
       "V15                         From the Vault: Angels  2015-08-21\n",
       "DDP               Duel Decks: Zendikar vs. Eldrazi  2015-08-28\n",
       "BFZ                            Battle for Zendikar  2015-10-02\n",
       "EXP                           Zendikar Expeditions  2015-10-02\n",
       "C15                                 Commander 2015  2015-11-13\n",
       "OGW                          Oath of the Gatewatch  2016-01-22\n",
       "DDQ                 Duel Decks: Blessed vs. Cursed  2016-02-26\n",
       "SOI                         Shadows over Innistrad  2016-04-08\n",
       "W16                              Welcome Deck 2016  2016-04-08\n",
       "EMA                                Eternal Masters  2016-06-10\n",
       "EMN                                  Eldritch Moon  2016-07-22\n",
       "V16                           From the Vault: Lore  2016-08-19\n",
       "CN2                     Conspiracy: Take the Crown  2016-08-26\n",
       "DDR               Duel Decks: Nissa vs. Ob Nixilis  2016-09-02\n",
       "MPS                            Kaladesh Inventions  2016-09-30\n",
       "KLD                                       Kaladesh  2016-09-30\n",
       "\n",
       "[199 rows x 2 columns]"
      ]
     },
     "execution_count": 12,
     "metadata": {},
     "output_type": "execute_result"
    }
   ],
   "source": [
    "all_sets.loc[:, [\"name\", \"releaseDate\"]].sort_values([\"releaseDate\"])"
   ]
  },
  {
   "cell_type": "markdown",
   "metadata": {
    "_cell_guid": "da97981d-569a-4228-8df9-79bd6c7a7d19",
    "_uuid": "77b1cc41309a84fb5c6f94c8dbffe4e7467c01be"
   },
   "source": [
    "Now we can begin to clean the data. There are a number of cards in this dataset that aren't intended for tournament play, or intentionally shirk design and development principles. For the sake of simplicity, it makes sense to remove these cards from the dataset. First, there are some sets that we can directly remove from `all_sets`. These include:\n",
    "\n",
    "* The Un-sets **Unglued** and **Unhinged** are joke sets that, outside of basic lands, aren't meant for tournament play and include many cards that intentionally violate design principles and break the game.\n",
    "* Certain sets of **Promotional cards** that were printed for holidays or other special events.\n",
    "* The set of **Vanguard avatars** that are meant to be used in the online-only Vanguard format."
   ]
  },
  {
   "cell_type": "code",
   "execution_count": 13,
   "metadata": {
    "_cell_guid": "77327ef2-f0db-4926-8976-4fc0db1acdac",
    "_uuid": "1b5ec091ab25287bdf34bb6cd54d300cf8cbd209",
    "collapsed": true
   },
   "outputs": [],
   "source": [
    "# before analyzing the dataset we remove some pathological cards and sets.\n",
    "# first we remove sets not intended for tournament play.\n",
    "# these include Un-sets, certain promotional cards, online-only Vanguard avatars, etc.\n",
    "invalid_sets = [\"UGL\", \"UNH\", \"pCEL\", \"pHHO\", \"VAN\"]\n",
    "\n",
    "def test_invalid_setcode(s, invalid_sets):\n",
    "    \n",
    "    for setname in invalid_sets:\n",
    "        if s == setname:\n",
    "            return True\n",
    "        \n",
    "    return False\n",
    "\n",
    "all_sets = all_sets.loc[~all_sets.code.map(lambda x: test_invalid_setcode(x, invalid_sets))]"
   ]
  },
  {
   "cell_type": "markdown",
   "metadata": {
    "_cell_guid": "a8b5796c-8a4e-4f67-aea8-525b2967a798",
    "_uuid": "1b924c460619a50901fb87acd9f8c89d581a9180"
   },
   "source": [
    "Next we remove some pathological card types and layouts, which can be done by applying a function to the elements of the `cards` column that removes the following cards:\n",
    "\n",
    "* Cards with **plane** or **phenomenon** layouts, which are exclusive to the Planechase format\n",
    "* Cards with the **scheme** layout, which are exclusive to the Archenemy format\n",
    "* Cards with the **token** layout, which are themselves not Magic cards but are representations of permenents created by other cards\n",
    "* Cards with the **conspiracy** card type, which are exclusive to the Conspiracy draft format"
   ]
  },
  {
   "cell_type": "code",
   "execution_count": 14,
   "metadata": {
    "_cell_guid": "36da58b5-5cae-4bbc-9a0a-c602f285d7d6",
    "_uuid": "f0ba9eb0636e66811eb5120cabdf3c04385e85fd",
    "collapsed": true
   },
   "outputs": [],
   "source": [
    "# we also remove cards that don't have the \"typical\" format of a Magic card\n",
    "# these include cards specific to the Planechase and Archenemy formats (planes, schemes, etc),\n",
    "# cards with the Conspiracy card type, and token cards\n",
    "card_layouts = [\"double-faced\", \"flip\", \"leveler\", \"meld\", \"normal\", \"split\"]\n",
    "\n",
    "all_sets.cards = all_sets.cards.apply(lambda x: x.loc[x.layout.map(lambda y: y in card_layouts)])\n",
    "all_sets.cards = all_sets.cards.apply(lambda x: x.loc[x.types.map(lambda y: y != [\"Conspiracy\"])])"
   ]
  },
  {
   "cell_type": "markdown",
   "metadata": {
    "_cell_guid": "2e5f9e2e-1e56-4c4b-834e-9de84c8e0bd6",
    "_uuid": "ed3d3b23fb8a95b62575d271db508488b0cc5ff6"
   },
   "source": [
    "Next, we deal with a significant corner case - creatures with variable power and toughness. Normally power and toughness are both fixed integers, but there are many creatures whose power and/or toughness depends on a variable characteristic, such as the number of creatures on the battlefield, the number of cards in the graveyard, etc. Again, for the sake of simplicity, we set these values to `NaN` so that the `power` and `toughness` columns can be treated as numeric columns. Because there are many creatures that actually have 0 power or toughness, we use `NaN` instead of 0 here to prevent skewing the data.\n",
    "\n",
    "This is the first example of a step in the data cleaning process where I made significant changes in how I went about in doing this step. Checking the power and toughness and removing variable power/toughness values was initially done much later in the process, after I had joined the cards from each set into one large DataFrame, `all_cards`, containing a copy of every Magic card. I also initally wrote this step (and some other steps later on) as a `for` loop iterating through a list of card names. That proved to be very slow, so I spent some time modifying the process to apply a function to each set of cards modifying power and toughness when necessary."
   ]
  },
  {
   "cell_type": "code",
   "execution_count": 15,
   "metadata": {
    "_cell_guid": "73ec4271-b9f0-492e-84db-aa45f9a30711",
    "_uuid": "e980dd169484df3bbd27f124a52aafd263f3046d",
    "collapsed": true
   },
   "outputs": [],
   "source": [
    "# next we modify creature cards with variable power/toughness - for the sake of numerical analysis, it\n",
    "# is simpler to remove these values so the power and toughness columns can be cast as numeric columns.\n",
    "def testfloat(s):\n",
    "    try:\n",
    "        float(s)\n",
    "        return True\n",
    "    except ValueError:\n",
    "        return False\n",
    "    \n",
    "def new_pt(s):\n",
    "    if testfloat(s):\n",
    "        return float(s)\n",
    "    else:\n",
    "        return np.nan\n",
    "    \n",
    "def fix_pts(c):\n",
    "    col_list = list(c.columns)\n",
    "    \n",
    "    if \"power\" in col_list and \"toughness\" in col_list:\n",
    "        c.loc[:, \"power\"] = pd.to_numeric(c.loc[:, \"power\"], errors = \"coerce\")\n",
    "        c.loc[:, \"toughness\"] = pd.to_numeric(c.loc[:, \"toughness\"], errors = \"coerce\")\n",
    "    \n",
    "    return c\n",
    "    \n",
    "all_sets.cards = all_sets.cards.apply(lambda x: fix_pts(x))"
   ]
  },
  {
   "cell_type": "markdown",
   "metadata": {
    "_cell_guid": "54c80127-30f4-4fbe-9049-2b81e84d7fc3",
    "_uuid": "0dc1dfaa5e703503e98cfdde245e7e5940187b09"
   },
   "source": [
    "Now we start preparing the DataFrames in `cards` to be combined to form one DataFrame, `all_cards`, containing all cards. It will be useful to have access to both the `cards` DataFrames in `all_sets` and `all_cards` because the former preserves information about set releases, which may be useful when analyzing design trends over time, while the latter will make it easier to directly access information about the cards themselves. The first step is to remove some extraneous columns: "
   ]
  },
  {
   "cell_type": "code",
   "execution_count": 16,
   "metadata": {
    "_cell_guid": "9ddd8c3b-7856-4132-be4c-2d72ef99a7b3",
    "_uuid": "83caa537d5d48aba5e99d361b4c7695b74c61579",
    "collapsed": true
   },
   "outputs": [],
   "source": [
    "# we remove columns that won't be useful in our analysis.\n",
    "cols_to_remove = [\"multiverseid\", \"imageName\", \"border\", \"mciNumber\", \"foreignNames\",\n",
    "                  \"originalText\", \"originalType\", \"source\"]\n",
    "\n",
    "all_sets.cards = all_sets.cards.apply(lambda x: x.loc[:, list(set(x.columns) - set(cols_to_remove))])"
   ]
  },
  {
   "cell_type": "markdown",
   "metadata": {
    "_cell_guid": "df5d35b7-8a42-418d-9653-9a47d2c521bf",
    "_uuid": "bf1f63c50b71d12335c8f1e7381b99d9a0bd5d6e"
   },
   "source": [
    "The second is to standardize the columns across sets by taking the union of the remaining labels and appending the appropriate columns to each DataFrame. The second step ensures that when these DataFrames are all combined, the columns will line up correctly.\n",
    "\n",
    "This particular method is another example of a step that I had to rework so that I could avoid using iterating through the rows of `all_sets`. Initially, I used a loop to iteratively take the left join of `all_cards` with each set, one by one, using the `align` method to ensure that the columns matched up. I avoided having to deal with the columns directly, but like before, this was prohibitively slow, so I worked out this approach instead."
   ]
  },
  {
   "cell_type": "code",
   "execution_count": 17,
   "metadata": {
    "_cell_guid": "b86adc66-ef75-44d5-ace0-0a638b1bf2a6",
    "_uuid": "38b7a65ade44aa9dcaccc8a03a58ca75d9864446",
    "scrolled": true
   },
   "outputs": [
    {
     "data": {
      "text/plain": [
       "{'artist',\n",
       " 'cmc',\n",
       " 'colorIdentity',\n",
       " 'colors',\n",
       " 'flavor',\n",
       " 'id',\n",
       " 'layout',\n",
       " 'loyalty',\n",
       " 'manaCost',\n",
       " 'name',\n",
       " 'names',\n",
       " 'number',\n",
       " 'power',\n",
       " 'rarity',\n",
       " 'releaseDate',\n",
       " 'reserved',\n",
       " 'starter',\n",
       " 'subtypes',\n",
       " 'supertypes',\n",
       " 'text',\n",
       " 'timeshifted',\n",
       " 'toughness',\n",
       " 'type',\n",
       " 'types',\n",
       " 'variations',\n",
       " 'watermark'}"
      ]
     },
     "execution_count": 17,
     "metadata": {},
     "output_type": "execute_result"
    }
   ],
   "source": [
    "# we standardize the columns of each cards DataFrame by taking the set-theoretic union of the columns\n",
    "# and appending the remaining columns to each DataFrame.\n",
    "union_set = set()\n",
    "set_cols = all_sets.cards.map(lambda x: set(x.columns))\n",
    "\n",
    "for setname in set_cols.index:\n",
    "    union_set = union_set | set_cols[setname]\n",
    "    \n",
    "union_set"
   ]
  },
  {
   "cell_type": "code",
   "execution_count": 29,
   "metadata": {
    "_cell_guid": "45047548-d84d-4b5f-b2cb-5485a6ebcb2e",
    "_uuid": "ee095c6dda66c0844fa4f2d903629c45c101292d",
    "collapsed": true
   },
   "outputs": [],
   "source": [
    "def addcols(cards, union_set):\n",
    "    unused_cols = union_set - set(cards.columns)\n",
    "    new_cols = pd.DataFrame(data = None, index = cards.index, columns = list(unused_cols))\n",
    "    return cards.join(new_cols)\n",
    "    \n",
    "# after appending the columns we sort them in alphabetical order    \n",
    "all_sets.cards = all_sets.cards.apply(lambda x: addcols(x, union_set))\n",
    "all_sets.cards = all_sets.cards.apply(lambda x: x.reindex(sorted(list(x.columns)), axis = 1))"
   ]
  },
  {
   "cell_type": "code",
   "execution_count": 25,
   "metadata": {
    "_cell_guid": "da7582bc-9bb1-44f9-88cd-a02c80b308eb",
    "_uuid": "afff187b1700aed335ec6395aff321e5010f86d0",
    "collapsed": true
   },
   "outputs": [],
   "source": [
    "# now we can start preparing the all_cards DataFrame, which will be a list of every tournament-legal\n",
    "# Magic card\n",
    "# first we select the columns from the cards DataFrames that will be useful\n",
    "all_cards_columns = ['names', 'layout', 'manaCost', 'cmc', 'colors', 'colorIdentity',\n",
    "                    'supertypes', 'types', 'subtypes', 'text', 'power', 'toughness',\n",
    "                    'loyalty', 'rulings', 'foreignNames', 'printings', 'legalities']"
   ]
  },
  {
   "cell_type": "code",
   "execution_count": 26,
   "metadata": {
    "_cell_guid": "e9d4c41b-9e62-48e0-8802-30abea8a5a44",
    "_uuid": "68d230ffda0f361831af5febfb6db61ffae42c9e",
    "scrolled": true
   },
   "outputs": [
    {
     "data": {
      "text/html": [
       "<div>\n",
       "<style scoped>\n",
       "    .dataframe tbody tr th:only-of-type {\n",
       "        vertical-align: middle;\n",
       "    }\n",
       "\n",
       "    .dataframe tbody tr th {\n",
       "        vertical-align: top;\n",
       "    }\n",
       "\n",
       "    .dataframe thead th {\n",
       "        text-align: right;\n",
       "    }\n",
       "</style>\n",
       "<table border=\"1\" class=\"dataframe\">\n",
       "  <thead>\n",
       "    <tr style=\"text-align: right;\">\n",
       "      <th></th>\n",
       "      <th>names</th>\n",
       "      <th>layout</th>\n",
       "      <th>manaCost</th>\n",
       "      <th>cmc</th>\n",
       "      <th>colors</th>\n",
       "      <th>colorIdentity</th>\n",
       "      <th>supertypes</th>\n",
       "      <th>types</th>\n",
       "      <th>subtypes</th>\n",
       "      <th>text</th>\n",
       "      <th>power</th>\n",
       "      <th>toughness</th>\n",
       "      <th>loyalty</th>\n",
       "      <th>rulings</th>\n",
       "      <th>foreignNames</th>\n",
       "      <th>printings</th>\n",
       "      <th>legalities</th>\n",
       "    </tr>\n",
       "    <tr>\n",
       "      <th>name</th>\n",
       "      <th></th>\n",
       "      <th></th>\n",
       "      <th></th>\n",
       "      <th></th>\n",
       "      <th></th>\n",
       "      <th></th>\n",
       "      <th></th>\n",
       "      <th></th>\n",
       "      <th></th>\n",
       "      <th></th>\n",
       "      <th></th>\n",
       "      <th></th>\n",
       "      <th></th>\n",
       "      <th></th>\n",
       "      <th></th>\n",
       "      <th></th>\n",
       "      <th></th>\n",
       "    </tr>\n",
       "  </thead>\n",
       "  <tbody>\n",
       "  </tbody>\n",
       "</table>\n",
       "</div>"
      ],
      "text/plain": [
       "Empty DataFrame\n",
       "Columns: [names, layout, manaCost, cmc, colors, colorIdentity, supertypes, types, subtypes, text, power, toughness, loyalty, rulings, foreignNames, printings, legalities]\n",
       "Index: []"
      ]
     },
     "execution_count": 26,
     "metadata": {},
     "output_type": "execute_result"
    }
   ],
   "source": [
    "# set the index of all_cards to be the name column, so we can search cards by name\n",
    "all_cards = pd.DataFrame(data = None, columns = all_cards_columns)\n",
    "all_cards.rename_axis(\"name\", inplace = True)\n",
    "all_cards.head()"
   ]
  },
  {
   "cell_type": "markdown",
   "metadata": {
    "_cell_guid": "12fdf269-4f06-44e2-a4ac-6cf0c4557b63",
    "_uuid": "72ec5c20fa069a1f603f3ebc5ab55ee396e19d2c"
   },
   "source": [
    "Finally, we need to modify the `rarity` and `printings` columns in each set. When looking at each set individually, it makes sense for `rarity` to be a separate column since each card in a set has a single rarity. But a card can be reprinted at different rarities in different sets, so in `all_cards`, without the context of what set each card is in, it makes sense to store the rarities associated to each printing of the card. A reasonable way to store this information is in a dictionary where the key/value pairs are printings and rarities.\n",
    "\n",
    "This process isn't actually completed here; what happens below is that for each card in a given set, the `rarity` column is converted from a string to a dictionary where the keys are taken from the `printings` of the card, but the corresponding values are all empty except for the value of the set, which will be the card's rarity. So for instance, a common in `TSP`, that has been printed in `TSP` and `RAV`, will be given the dictionary\n",
    "\n",
    "`{ 'RAV' : None, 'TSP' : 'Common' }`\n",
    "\n",
    "The reason for this is because the methods below are applied to each set, so they don't have access to the rarities of cards printed in other sets. It's more efficient to fill out the dictionaries when removing duplicates from `all_cards` later on."
   ]
  },
  {
   "cell_type": "code",
   "execution_count": 27,
   "metadata": {
    "_cell_guid": "a84ad8f7-24e6-4306-aec1-08499af58ba1",
    "_uuid": "4f670a53b982e866a451405b99563be6354623c6",
    "collapsed": true
   },
   "outputs": [],
   "source": [
    "# we want to preserve the printing/rarity information in all_cards; we represent this information\n",
    "# as a dictionary where the key/value pairs are printings and rarities\n",
    "def convert_printings(x, set_name):\n",
    "    x[\"printings\"] = dict.fromkeys(x[\"printings\"])\n",
    "    x[\"printings\"].update({set_name : x[\"rarity\"]})\n",
    "    \n",
    "    return x\n",
    "\n",
    "def convert_row(row):\n",
    "    row[\"cards\"] = row[\"cards\"].apply(lambda x: convert_printings(x, row[\"code\"]), \n",
    "                                      axis = 1).set_index(\"name\")\n",
    "    \n",
    "    return row\n",
    "\n",
    "def filter_columns(row, all_cards_cols):\n",
    "    set_cols = list(row.columns)\n",
    "    intersection = list(set(set_cols) & set(all_cards_cols))\n",
    "    \n",
    "    return row.filter(intersection)"
   ]
  },
  {
   "cell_type": "code",
   "execution_count": 28,
   "metadata": {
    "_cell_guid": "dfb5ee60-65e5-407b-96a9-f2f575b3b2a7",
    "_uuid": "6cd7d0b9c20d68dc985fb0eb88dd1861c03f6d15",
    "scrolled": true
   },
   "outputs": [
    {
     "ename": "KeyError",
     "evalue": "('printings', 'occurred at index 0', 'occurred at index 10E')",
     "output_type": "error",
     "traceback": [
      "\u001b[1;31m---------------------------------------------------------------------------\u001b[0m",
      "\u001b[1;31mTypeError\u001b[0m                                 Traceback (most recent call last)",
      "\u001b[1;32mC:\\Users\\jose\\Anaconda3\\lib\\site-packages\\pandas\\core\\indexes\\base.py\u001b[0m in \u001b[0;36mget_value\u001b[1;34m(self, series, key)\u001b[0m\n\u001b[0;32m   2565\u001b[0m             \u001b[1;32mtry\u001b[0m\u001b[1;33m:\u001b[0m\u001b[1;33m\u001b[0m\u001b[0m\n\u001b[1;32m-> 2566\u001b[1;33m                 \u001b[1;32mreturn\u001b[0m \u001b[0mlibts\u001b[0m\u001b[1;33m.\u001b[0m\u001b[0mget_value_box\u001b[0m\u001b[1;33m(\u001b[0m\u001b[0ms\u001b[0m\u001b[1;33m,\u001b[0m \u001b[0mkey\u001b[0m\u001b[1;33m)\u001b[0m\u001b[1;33m\u001b[0m\u001b[0m\n\u001b[0m\u001b[0;32m   2567\u001b[0m             \u001b[1;32mexcept\u001b[0m \u001b[0mIndexError\u001b[0m\u001b[1;33m:\u001b[0m\u001b[1;33m\u001b[0m\u001b[0m\n",
      "\u001b[1;32mpandas/_libs/tslib.pyx\u001b[0m in \u001b[0;36mpandas._libs.tslib.get_value_box\u001b[1;34m()\u001b[0m\n",
      "\u001b[1;32mpandas/_libs/tslib.pyx\u001b[0m in \u001b[0;36mpandas._libs.tslib.get_value_box\u001b[1;34m()\u001b[0m\n",
      "\u001b[1;31mTypeError\u001b[0m: 'str' object cannot be interpreted as an integer",
      "\nDuring handling of the above exception, another exception occurred:\n",
      "\u001b[1;31mKeyError\u001b[0m                                  Traceback (most recent call last)",
      "\u001b[1;32m<ipython-input-28-2e6262207eca>\u001b[0m in \u001b[0;36m<module>\u001b[1;34m()\u001b[0m\n\u001b[1;32m----> 1\u001b[1;33m \u001b[0monly_cards\u001b[0m \u001b[1;33m=\u001b[0m \u001b[0mall_sets\u001b[0m\u001b[1;33m.\u001b[0m\u001b[0mapply\u001b[0m\u001b[1;33m(\u001b[0m\u001b[1;32mlambda\u001b[0m \u001b[0mx\u001b[0m\u001b[1;33m:\u001b[0m \u001b[0mconvert_row\u001b[0m\u001b[1;33m(\u001b[0m\u001b[0mx\u001b[0m\u001b[1;33m)\u001b[0m\u001b[1;33m,\u001b[0m \u001b[0maxis\u001b[0m \u001b[1;33m=\u001b[0m \u001b[1;36m1\u001b[0m\u001b[1;33m)\u001b[0m\u001b[1;33m[\u001b[0m\u001b[1;34m\"cards\"\u001b[0m\u001b[1;33m]\u001b[0m\u001b[1;33m\u001b[0m\u001b[0m\n\u001b[0m",
      "\u001b[1;32mC:\\Users\\jose\\Anaconda3\\lib\\site-packages\\pandas\\core\\frame.py\u001b[0m in \u001b[0;36mapply\u001b[1;34m(self, func, axis, broadcast, raw, reduce, args, **kwds)\u001b[0m\n\u001b[0;32m   4875\u001b[0m                         \u001b[0mf\u001b[0m\u001b[1;33m,\u001b[0m \u001b[0maxis\u001b[0m\u001b[1;33m,\u001b[0m\u001b[1;33m\u001b[0m\u001b[0m\n\u001b[0;32m   4876\u001b[0m                         \u001b[0mreduce\u001b[0m\u001b[1;33m=\u001b[0m\u001b[0mreduce\u001b[0m\u001b[1;33m,\u001b[0m\u001b[1;33m\u001b[0m\u001b[0m\n\u001b[1;32m-> 4877\u001b[1;33m                         ignore_failures=ignore_failures)\n\u001b[0m\u001b[0;32m   4878\u001b[0m             \u001b[1;32melse\u001b[0m\u001b[1;33m:\u001b[0m\u001b[1;33m\u001b[0m\u001b[0m\n\u001b[0;32m   4879\u001b[0m                 \u001b[1;32mreturn\u001b[0m \u001b[0mself\u001b[0m\u001b[1;33m.\u001b[0m\u001b[0m_apply_broadcast\u001b[0m\u001b[1;33m(\u001b[0m\u001b[0mf\u001b[0m\u001b[1;33m,\u001b[0m \u001b[0maxis\u001b[0m\u001b[1;33m)\u001b[0m\u001b[1;33m\u001b[0m\u001b[0m\n",
      "\u001b[1;32mC:\\Users\\jose\\Anaconda3\\lib\\site-packages\\pandas\\core\\frame.py\u001b[0m in \u001b[0;36m_apply_standard\u001b[1;34m(self, func, axis, ignore_failures, reduce)\u001b[0m\n\u001b[0;32m   4971\u001b[0m             \u001b[1;32mtry\u001b[0m\u001b[1;33m:\u001b[0m\u001b[1;33m\u001b[0m\u001b[0m\n\u001b[0;32m   4972\u001b[0m                 \u001b[1;32mfor\u001b[0m \u001b[0mi\u001b[0m\u001b[1;33m,\u001b[0m \u001b[0mv\u001b[0m \u001b[1;32min\u001b[0m \u001b[0menumerate\u001b[0m\u001b[1;33m(\u001b[0m\u001b[0mseries_gen\u001b[0m\u001b[1;33m)\u001b[0m\u001b[1;33m:\u001b[0m\u001b[1;33m\u001b[0m\u001b[0m\n\u001b[1;32m-> 4973\u001b[1;33m                     \u001b[0mresults\u001b[0m\u001b[1;33m[\u001b[0m\u001b[0mi\u001b[0m\u001b[1;33m]\u001b[0m \u001b[1;33m=\u001b[0m \u001b[0mfunc\u001b[0m\u001b[1;33m(\u001b[0m\u001b[0mv\u001b[0m\u001b[1;33m)\u001b[0m\u001b[1;33m\u001b[0m\u001b[0m\n\u001b[0m\u001b[0;32m   4974\u001b[0m                     \u001b[0mkeys\u001b[0m\u001b[1;33m.\u001b[0m\u001b[0mappend\u001b[0m\u001b[1;33m(\u001b[0m\u001b[0mv\u001b[0m\u001b[1;33m.\u001b[0m\u001b[0mname\u001b[0m\u001b[1;33m)\u001b[0m\u001b[1;33m\u001b[0m\u001b[0m\n\u001b[0;32m   4975\u001b[0m             \u001b[1;32mexcept\u001b[0m \u001b[0mException\u001b[0m \u001b[1;32mas\u001b[0m \u001b[0me\u001b[0m\u001b[1;33m:\u001b[0m\u001b[1;33m\u001b[0m\u001b[0m\n",
      "\u001b[1;32m<ipython-input-28-2e6262207eca>\u001b[0m in \u001b[0;36m<lambda>\u001b[1;34m(x)\u001b[0m\n\u001b[1;32m----> 1\u001b[1;33m \u001b[0monly_cards\u001b[0m \u001b[1;33m=\u001b[0m \u001b[0mall_sets\u001b[0m\u001b[1;33m.\u001b[0m\u001b[0mapply\u001b[0m\u001b[1;33m(\u001b[0m\u001b[1;32mlambda\u001b[0m \u001b[0mx\u001b[0m\u001b[1;33m:\u001b[0m \u001b[0mconvert_row\u001b[0m\u001b[1;33m(\u001b[0m\u001b[0mx\u001b[0m\u001b[1;33m)\u001b[0m\u001b[1;33m,\u001b[0m \u001b[0maxis\u001b[0m \u001b[1;33m=\u001b[0m \u001b[1;36m1\u001b[0m\u001b[1;33m)\u001b[0m\u001b[1;33m[\u001b[0m\u001b[1;34m\"cards\"\u001b[0m\u001b[1;33m]\u001b[0m\u001b[1;33m\u001b[0m\u001b[0m\n\u001b[0m",
      "\u001b[1;32m<ipython-input-27-70fab94ee919>\u001b[0m in \u001b[0;36mconvert_row\u001b[1;34m(row)\u001b[0m\n\u001b[0;32m      9\u001b[0m \u001b[1;32mdef\u001b[0m \u001b[0mconvert_row\u001b[0m\u001b[1;33m(\u001b[0m\u001b[0mrow\u001b[0m\u001b[1;33m)\u001b[0m\u001b[1;33m:\u001b[0m\u001b[1;33m\u001b[0m\u001b[0m\n\u001b[0;32m     10\u001b[0m     row[\"cards\"] = row[\"cards\"].apply(lambda x: convert_printings(x, row[\"code\"]), \n\u001b[1;32m---> 11\u001b[1;33m                                       axis = 1).set_index(\"name\")\n\u001b[0m\u001b[0;32m     12\u001b[0m \u001b[1;33m\u001b[0m\u001b[0m\n\u001b[0;32m     13\u001b[0m     \u001b[1;32mreturn\u001b[0m \u001b[0mrow\u001b[0m\u001b[1;33m\u001b[0m\u001b[0m\n",
      "\u001b[1;32mC:\\Users\\jose\\Anaconda3\\lib\\site-packages\\pandas\\core\\frame.py\u001b[0m in \u001b[0;36mapply\u001b[1;34m(self, func, axis, broadcast, raw, reduce, args, **kwds)\u001b[0m\n\u001b[0;32m   4875\u001b[0m                         \u001b[0mf\u001b[0m\u001b[1;33m,\u001b[0m \u001b[0maxis\u001b[0m\u001b[1;33m,\u001b[0m\u001b[1;33m\u001b[0m\u001b[0m\n\u001b[0;32m   4876\u001b[0m                         \u001b[0mreduce\u001b[0m\u001b[1;33m=\u001b[0m\u001b[0mreduce\u001b[0m\u001b[1;33m,\u001b[0m\u001b[1;33m\u001b[0m\u001b[0m\n\u001b[1;32m-> 4877\u001b[1;33m                         ignore_failures=ignore_failures)\n\u001b[0m\u001b[0;32m   4878\u001b[0m             \u001b[1;32melse\u001b[0m\u001b[1;33m:\u001b[0m\u001b[1;33m\u001b[0m\u001b[0m\n\u001b[0;32m   4879\u001b[0m                 \u001b[1;32mreturn\u001b[0m \u001b[0mself\u001b[0m\u001b[1;33m.\u001b[0m\u001b[0m_apply_broadcast\u001b[0m\u001b[1;33m(\u001b[0m\u001b[0mf\u001b[0m\u001b[1;33m,\u001b[0m \u001b[0maxis\u001b[0m\u001b[1;33m)\u001b[0m\u001b[1;33m\u001b[0m\u001b[0m\n",
      "\u001b[1;32mC:\\Users\\jose\\Anaconda3\\lib\\site-packages\\pandas\\core\\frame.py\u001b[0m in \u001b[0;36m_apply_standard\u001b[1;34m(self, func, axis, ignore_failures, reduce)\u001b[0m\n\u001b[0;32m   4971\u001b[0m             \u001b[1;32mtry\u001b[0m\u001b[1;33m:\u001b[0m\u001b[1;33m\u001b[0m\u001b[0m\n\u001b[0;32m   4972\u001b[0m                 \u001b[1;32mfor\u001b[0m \u001b[0mi\u001b[0m\u001b[1;33m,\u001b[0m \u001b[0mv\u001b[0m \u001b[1;32min\u001b[0m \u001b[0menumerate\u001b[0m\u001b[1;33m(\u001b[0m\u001b[0mseries_gen\u001b[0m\u001b[1;33m)\u001b[0m\u001b[1;33m:\u001b[0m\u001b[1;33m\u001b[0m\u001b[0m\n\u001b[1;32m-> 4973\u001b[1;33m                     \u001b[0mresults\u001b[0m\u001b[1;33m[\u001b[0m\u001b[0mi\u001b[0m\u001b[1;33m]\u001b[0m \u001b[1;33m=\u001b[0m \u001b[0mfunc\u001b[0m\u001b[1;33m(\u001b[0m\u001b[0mv\u001b[0m\u001b[1;33m)\u001b[0m\u001b[1;33m\u001b[0m\u001b[0m\n\u001b[0m\u001b[0;32m   4974\u001b[0m                     \u001b[0mkeys\u001b[0m\u001b[1;33m.\u001b[0m\u001b[0mappend\u001b[0m\u001b[1;33m(\u001b[0m\u001b[0mv\u001b[0m\u001b[1;33m.\u001b[0m\u001b[0mname\u001b[0m\u001b[1;33m)\u001b[0m\u001b[1;33m\u001b[0m\u001b[0m\n\u001b[0;32m   4975\u001b[0m             \u001b[1;32mexcept\u001b[0m \u001b[0mException\u001b[0m \u001b[1;32mas\u001b[0m \u001b[0me\u001b[0m\u001b[1;33m:\u001b[0m\u001b[1;33m\u001b[0m\u001b[0m\n",
      "\u001b[1;32m<ipython-input-27-70fab94ee919>\u001b[0m in \u001b[0;36m<lambda>\u001b[1;34m(x)\u001b[0m\n\u001b[0;32m      8\u001b[0m \u001b[1;33m\u001b[0m\u001b[0m\n\u001b[0;32m      9\u001b[0m \u001b[1;32mdef\u001b[0m \u001b[0mconvert_row\u001b[0m\u001b[1;33m(\u001b[0m\u001b[0mrow\u001b[0m\u001b[1;33m)\u001b[0m\u001b[1;33m:\u001b[0m\u001b[1;33m\u001b[0m\u001b[0m\n\u001b[1;32m---> 10\u001b[1;33m     row[\"cards\"] = row[\"cards\"].apply(lambda x: convert_printings(x, row[\"code\"]), \n\u001b[0m\u001b[0;32m     11\u001b[0m                                       axis = 1).set_index(\"name\")\n\u001b[0;32m     12\u001b[0m \u001b[1;33m\u001b[0m\u001b[0m\n",
      "\u001b[1;32m<ipython-input-27-70fab94ee919>\u001b[0m in \u001b[0;36mconvert_printings\u001b[1;34m(x, set_name)\u001b[0m\n\u001b[0;32m      2\u001b[0m \u001b[1;31m# as a dictionary where the key/value pairs are printings and rarities\u001b[0m\u001b[1;33m\u001b[0m\u001b[1;33m\u001b[0m\u001b[0m\n\u001b[0;32m      3\u001b[0m \u001b[1;32mdef\u001b[0m \u001b[0mconvert_printings\u001b[0m\u001b[1;33m(\u001b[0m\u001b[0mx\u001b[0m\u001b[1;33m,\u001b[0m \u001b[0mset_name\u001b[0m\u001b[1;33m)\u001b[0m\u001b[1;33m:\u001b[0m\u001b[1;33m\u001b[0m\u001b[0m\n\u001b[1;32m----> 4\u001b[1;33m     \u001b[0mx\u001b[0m\u001b[1;33m[\u001b[0m\u001b[1;34m\"printings\"\u001b[0m\u001b[1;33m]\u001b[0m \u001b[1;33m=\u001b[0m \u001b[0mdict\u001b[0m\u001b[1;33m.\u001b[0m\u001b[0mfromkeys\u001b[0m\u001b[1;33m(\u001b[0m\u001b[0mx\u001b[0m\u001b[1;33m[\u001b[0m\u001b[1;34m\"printings\"\u001b[0m\u001b[1;33m]\u001b[0m\u001b[1;33m)\u001b[0m\u001b[1;33m\u001b[0m\u001b[0m\n\u001b[0m\u001b[0;32m      5\u001b[0m     \u001b[0mx\u001b[0m\u001b[1;33m[\u001b[0m\u001b[1;34m\"printings\"\u001b[0m\u001b[1;33m]\u001b[0m\u001b[1;33m.\u001b[0m\u001b[0mupdate\u001b[0m\u001b[1;33m(\u001b[0m\u001b[1;33m{\u001b[0m\u001b[0mset_name\u001b[0m \u001b[1;33m:\u001b[0m \u001b[0mx\u001b[0m\u001b[1;33m[\u001b[0m\u001b[1;34m\"rarity\"\u001b[0m\u001b[1;33m]\u001b[0m\u001b[1;33m}\u001b[0m\u001b[1;33m)\u001b[0m\u001b[1;33m\u001b[0m\u001b[0m\n\u001b[0;32m      6\u001b[0m \u001b[1;33m\u001b[0m\u001b[0m\n",
      "\u001b[1;32mC:\\Users\\jose\\Anaconda3\\lib\\site-packages\\pandas\\core\\series.py\u001b[0m in \u001b[0;36m__getitem__\u001b[1;34m(self, key)\u001b[0m\n\u001b[0;32m    621\u001b[0m         \u001b[0mkey\u001b[0m \u001b[1;33m=\u001b[0m \u001b[0mcom\u001b[0m\u001b[1;33m.\u001b[0m\u001b[0m_apply_if_callable\u001b[0m\u001b[1;33m(\u001b[0m\u001b[0mkey\u001b[0m\u001b[1;33m,\u001b[0m \u001b[0mself\u001b[0m\u001b[1;33m)\u001b[0m\u001b[1;33m\u001b[0m\u001b[0m\n\u001b[0;32m    622\u001b[0m         \u001b[1;32mtry\u001b[0m\u001b[1;33m:\u001b[0m\u001b[1;33m\u001b[0m\u001b[0m\n\u001b[1;32m--> 623\u001b[1;33m             \u001b[0mresult\u001b[0m \u001b[1;33m=\u001b[0m \u001b[0mself\u001b[0m\u001b[1;33m.\u001b[0m\u001b[0mindex\u001b[0m\u001b[1;33m.\u001b[0m\u001b[0mget_value\u001b[0m\u001b[1;33m(\u001b[0m\u001b[0mself\u001b[0m\u001b[1;33m,\u001b[0m \u001b[0mkey\u001b[0m\u001b[1;33m)\u001b[0m\u001b[1;33m\u001b[0m\u001b[0m\n\u001b[0m\u001b[0;32m    624\u001b[0m \u001b[1;33m\u001b[0m\u001b[0m\n\u001b[0;32m    625\u001b[0m             \u001b[1;32mif\u001b[0m \u001b[1;32mnot\u001b[0m \u001b[0mis_scalar\u001b[0m\u001b[1;33m(\u001b[0m\u001b[0mresult\u001b[0m\u001b[1;33m)\u001b[0m\u001b[1;33m:\u001b[0m\u001b[1;33m\u001b[0m\u001b[0m\n",
      "\u001b[1;32mC:\\Users\\jose\\Anaconda3\\lib\\site-packages\\pandas\\core\\indexes\\base.py\u001b[0m in \u001b[0;36mget_value\u001b[1;34m(self, series, key)\u001b[0m\n\u001b[0;32m   2572\u001b[0m                     \u001b[1;32mraise\u001b[0m \u001b[0mInvalidIndexError\u001b[0m\u001b[1;33m(\u001b[0m\u001b[0mkey\u001b[0m\u001b[1;33m)\u001b[0m\u001b[1;33m\u001b[0m\u001b[0m\n\u001b[0;32m   2573\u001b[0m                 \u001b[1;32melse\u001b[0m\u001b[1;33m:\u001b[0m\u001b[1;33m\u001b[0m\u001b[0m\n\u001b[1;32m-> 2574\u001b[1;33m                     \u001b[1;32mraise\u001b[0m \u001b[0me1\u001b[0m\u001b[1;33m\u001b[0m\u001b[0m\n\u001b[0m\u001b[0;32m   2575\u001b[0m             \u001b[1;32mexcept\u001b[0m \u001b[0mException\u001b[0m\u001b[1;33m:\u001b[0m  \u001b[1;31m# pragma: no cover\u001b[0m\u001b[1;33m\u001b[0m\u001b[0m\n\u001b[0;32m   2576\u001b[0m                 \u001b[1;32mraise\u001b[0m \u001b[0me1\u001b[0m\u001b[1;33m\u001b[0m\u001b[0m\n",
      "\u001b[1;32mC:\\Users\\jose\\Anaconda3\\lib\\site-packages\\pandas\\core\\indexes\\base.py\u001b[0m in \u001b[0;36mget_value\u001b[1;34m(self, series, key)\u001b[0m\n\u001b[0;32m   2558\u001b[0m         \u001b[1;32mtry\u001b[0m\u001b[1;33m:\u001b[0m\u001b[1;33m\u001b[0m\u001b[0m\n\u001b[0;32m   2559\u001b[0m             return self._engine.get_value(s, k,\n\u001b[1;32m-> 2560\u001b[1;33m                                           tz=getattr(series.dtype, 'tz', None))\n\u001b[0m\u001b[0;32m   2561\u001b[0m         \u001b[1;32mexcept\u001b[0m \u001b[0mKeyError\u001b[0m \u001b[1;32mas\u001b[0m \u001b[0me1\u001b[0m\u001b[1;33m:\u001b[0m\u001b[1;33m\u001b[0m\u001b[0m\n\u001b[0;32m   2562\u001b[0m             \u001b[1;32mif\u001b[0m \u001b[0mlen\u001b[0m\u001b[1;33m(\u001b[0m\u001b[0mself\u001b[0m\u001b[1;33m)\u001b[0m \u001b[1;33m>\u001b[0m \u001b[1;36m0\u001b[0m \u001b[1;32mand\u001b[0m \u001b[0mself\u001b[0m\u001b[1;33m.\u001b[0m\u001b[0minferred_type\u001b[0m \u001b[1;32min\u001b[0m \u001b[1;33m[\u001b[0m\u001b[1;34m'integer'\u001b[0m\u001b[1;33m,\u001b[0m \u001b[1;34m'boolean'\u001b[0m\u001b[1;33m]\u001b[0m\u001b[1;33m:\u001b[0m\u001b[1;33m\u001b[0m\u001b[0m\n",
      "\u001b[1;32mpandas/_libs/index.pyx\u001b[0m in \u001b[0;36mpandas._libs.index.IndexEngine.get_value\u001b[1;34m()\u001b[0m\n",
      "\u001b[1;32mpandas/_libs/index.pyx\u001b[0m in \u001b[0;36mpandas._libs.index.IndexEngine.get_value\u001b[1;34m()\u001b[0m\n",
      "\u001b[1;32mpandas/_libs/index.pyx\u001b[0m in \u001b[0;36mpandas._libs.index.IndexEngine.get_loc\u001b[1;34m()\u001b[0m\n",
      "\u001b[1;32mpandas/_libs/hashtable_class_helper.pxi\u001b[0m in \u001b[0;36mpandas._libs.hashtable.PyObjectHashTable.get_item\u001b[1;34m()\u001b[0m\n",
      "\u001b[1;32mpandas/_libs/hashtable_class_helper.pxi\u001b[0m in \u001b[0;36mpandas._libs.hashtable.PyObjectHashTable.get_item\u001b[1;34m()\u001b[0m\n",
      "\u001b[1;31mKeyError\u001b[0m: ('printings', 'occurred at index 0', 'occurred at index 10E')"
     ]
    }
   ],
   "source": [
    "only_cards = all_sets.apply(lambda x: convert_row(x), axis = 1)[\"cards\"]"
   ]
  },
  {
   "cell_type": "code",
   "execution_count": null,
   "metadata": {
    "_cell_guid": "ff14c62d-09c8-459b-8c90-383e94c0348c",
    "_uuid": "17e3e7938942ea57388a7b063d85ea0b080ba515",
    "collapsed": true,
    "scrolled": true
   },
   "outputs": [],
   "source": [
    "only_cards = only_cards.apply(lambda x: filter_columns(x, all_cards_columns))\n",
    "test = only_cards[\"RAV\"]\n",
    "test.head()"
   ]
  },
  {
   "cell_type": "code",
   "execution_count": null,
   "metadata": {
    "_cell_guid": "eea11a4d-d916-4a94-93b0-1d083551055f",
    "_uuid": "92d51c9ca9fd54da3f92e0b21b0bc03cca7c8792",
    "collapsed": true
   },
   "outputs": [],
   "source": [
    "all_cards = pd.concat(list(only_cards))\n",
    "all_cards.sample(10)"
   ]
  },
  {
   "cell_type": "markdown",
   "metadata": {
    "_cell_guid": "0907854c-015c-4978-9e9e-077a0ceed3fb",
    "_uuid": "5a316d1a389590f23f00b5b3ce875f3aaac8dea8"
   },
   "source": [
    "There are two more changes that we need to make to `all_cards`. The first is removing cards that were both in a non-tournament legal set and had another printing as a promotional card. Since we only removed non-tournament legal sets from `all_sets`, and we didn't remove cards from any of the sets themselves, these cards are still in `all_cards` and need to be removed.\n",
    "\n",
    "Since basic lands are printed in every set, we make sure to exclude cards with the `Basic` supertype from the cards we remove."
   ]
  },
  {
   "cell_type": "code",
   "execution_count": null,
   "metadata": {
    "_cell_guid": "548af1ad-09a2-4790-b635-a60da7b917ab",
    "_uuid": "cc6efbfa2287e4ee87591a501b2b57f5d2c408e6",
    "collapsed": true
   },
   "outputs": [],
   "source": [
    "# there are a non-tournament legal cards remaining in this list, reprinted as promos, so we remove\n",
    "# those cards from the list\n",
    "all_cards = all_cards.loc[~(all_cards.printings.map(lambda x: bool(set(invalid_sets) & set(x)))\n",
    "              & all_cards.supertypes.map(lambda x: x != [\"Basic\"]))]"
   ]
  },
  {
   "cell_type": "markdown",
   "metadata": {
    "_cell_guid": "24c961be-ace8-413b-a5ad-845d0166423a",
    "_uuid": "cabc7796ceca28fde3a246e6382ac1db574b548a"
   },
   "source": [
    "The second change we need to make is removing duplicate entries in `all_cards` - we want each row to be a single card, but the way we constructed `all_cards`, each row is a printing of a single card, so each card will have an additional row for each time it has been reprinted:"
   ]
  },
  {
   "cell_type": "code",
   "execution_count": null,
   "metadata": {
    "_cell_guid": "db0853c8-51dc-4582-94ce-59de5352b57e",
    "_uuid": "ff69e10aa6e050a2f982774924e82d4b0c0e1cc4",
    "collapsed": true
   },
   "outputs": [],
   "source": [
    "all_cards.loc[\"Lightning Bolt\"]"
   ]
  },
  {
   "cell_type": "markdown",
   "metadata": {
    "_cell_guid": "f0ccf504-22af-4a7d-965d-cb06f66014ae",
    "_uuid": "f91014c9c430ea69ad58dae6b3e9ad74c2f12135"
   },
   "source": [
    "When removing duplicates from `all_cards`, we also merge the dictionaries in the `printings` column for each unique card, to obtain a complete dictionary of printing/rarity pairs. This additional step is the reason why we can't use `drop_duplicates` right off the bat. The code below takes each set of reprints, merges the dictionaries in `printings`, and updates the first entry in the set of reprints with the completed dictionary.\n",
    "\n",
    "This is the only part of this process that I couldn't figure out how to do without iteration - it might be possible to do with the `GroupBy` method but I would have to do some reading to figure out if that's the case. As a consequence, the main loop of iterating through unique card names takes a while to actually run (although previous iterations took much longer)."
   ]
  },
  {
   "cell_type": "code",
   "execution_count": null,
   "metadata": {
    "_cell_guid": "5616fbc9-fcf6-41d5-9443-204412ddccce",
    "_uuid": "91ed5edbe7072d39ee9184e3e81123e51228d462",
    "collapsed": true
   },
   "outputs": [],
   "source": [
    "# merges a list of dictionaries where for each key, only one dictionary from the list will have a\n",
    "# non-null value corresponding to the key. The keys of the merged dictionary will be the union of \n",
    "# the keys of the dictionaries in the list, and the corresponding value will be that non-null value\n",
    "# corresponding to the key.\n",
    "def merge_dicts(dicts):\n",
    "    merged_dicts = {}\n",
    "    \n",
    "    for d in dicts:\n",
    "        for k, v in d.items():\n",
    "            if bool(v):\n",
    "                merged_dicts.update({k : v})\n",
    "    \n",
    "    return merged_dicts"
   ]
  },
  {
   "cell_type": "code",
   "execution_count": null,
   "metadata": {
    "_cell_guid": "09736ee0-e06b-41a4-bb85-044a8ffe4647",
    "_uuid": "7fa867bac62f3dcc11337dc5d2e50de5880d0dc3",
    "collapsed": true
   },
   "outputs": [],
   "source": [
    "# loop that iterates through unique cardnames - for each cardname, check whether the card has reprints,\n",
    "# and if so, update the first entry in the list of reprints with the merged printing/rarity dictionary\n",
    "for cardname in all_cards.index.unique():\n",
    "    reprints = all_cards.loc[cardname]\n",
    "    \n",
    "    # this checks that the DataFrame above actually has more than 1 card - if it had only one, then\n",
    "    # reprints would instead be a column where the 16 attributes of the card are the rows\n",
    "    if reprints.shape != (16,):\n",
    "        merged_dicts = merge_dicts(list(reprints.printings))\n",
    "        reprints.iat[0, list(reprints.columns).index(\"printings\")].update(merged_dicts)"
   ]
  },
  {
   "cell_type": "code",
   "execution_count": null,
   "metadata": {
    "_cell_guid": "029c0cd3-96b3-46db-9dce-c02ccaf5e165",
    "_uuid": "de50f14ef3bbf0030121606de3aed4cb1784f304",
    "collapsed": true
   },
   "outputs": [],
   "source": [
    "# for each reprinted card, the first reprint has the completed printing/rarity dictionary, so we can get\n",
    "# rid of every other duplicate\n",
    "all_cards = all_cards[~all_cards.index.duplicated(keep = \"first\")]"
   ]
  },
  {
   "cell_type": "markdown",
   "metadata": {
    "_cell_guid": "c5139c78-f586-4fd2-b9e4-b1d9c0a805d9",
    "_uuid": "2ac37c67f8a754d15738756458e330d634998f9d"
   },
   "source": [
    "Now we're done, and can check some simple summary statistics of `all_cards`."
   ]
  },
  {
   "cell_type": "code",
   "execution_count": null,
   "metadata": {
    "_cell_guid": "55deb9e4-c510-46c7-9c6b-0c21bf16e654",
    "_uuid": "45084fd16a8db452fa7e010112e125d165d42a18",
    "collapsed": true
   },
   "outputs": [],
   "source": [
    "all_cards.describe()"
   ]
  },
  {
   "cell_type": "code",
   "execution_count": null,
   "metadata": {
    "_cell_guid": "19736d39-56d8-4e05-8516-dedb537aea3e",
    "_uuid": "5a72e62e951c478842bbaa045dc55d5c95e6bd63",
    "collapsed": true,
    "scrolled": false
   },
   "outputs": [],
   "source": [
    "all_cards.sample(10)"
   ]
  },
  {
   "cell_type": "code",
   "execution_count": null,
   "metadata": {
    "_cell_guid": "4508ecd3-0789-4aac-98a8-e2fc9b6d69db",
    "_uuid": "56c38ddc65c4e59fd6ffae94b071e2bc478a3858",
    "collapsed": true,
    "scrolled": false
   },
   "outputs": [],
   "source": [
    "colorless = all_cards.loc[all_cards.colors.isnull() &\n",
    "              ~all_cards.types.apply(lambda x: \"Land\" in x)]\n",
    "all_cards.loc[colorless.index, \"colors\"] = colorless.colors.apply(lambda x: [])"
   ]
  },
  {
   "cell_type": "code",
   "execution_count": null,
   "metadata": {
    "_cell_guid": "cd33d9db-41be-4514-b4e5-16953087e43d",
    "_uuid": "df1469de8035b864a5b394d3d9da0b6bfc18acd7",
    "collapsed": true,
    "scrolled": true
   },
   "outputs": [],
   "source": [
    "all_cards.loc[\"Umezawa's Jitte\"]"
   ]
  },
  {
   "cell_type": "code",
   "execution_count": null,
   "metadata": {
    "_cell_guid": "0beda2ae-34ae-4330-ac58-b5885aaf18c9",
    "_uuid": "b649f0ad2dfde5eb3d6aa1fe7d2a229a62578a01",
    "collapsed": true
   },
   "outputs": [],
   "source": [
    "colors = [\"White\", \"Blue\", \"Black\", \"Red\", \"Green\"]"
   ]
  },
  {
   "cell_type": "code",
   "execution_count": null,
   "metadata": {
    "_cell_guid": "c4ae60e0-adae-4c2a-b089-c9d942cc6a18",
    "_uuid": "f6466ed867ae531f7428a0a674167422cc5b4661",
    "collapsed": true
   },
   "outputs": [],
   "source": [
    "def subsets(lst):\n",
    "    powerset = []\n",
    "    \n",
    "    for i in range(len(lst)):\n",
    "        powerset += map(lambda x: list(x), list(it.combinations(lst, i)))\n",
    "        \n",
    "    powerset.append(lst)\n",
    "    return powerset"
   ]
  },
  {
   "cell_type": "code",
   "execution_count": null,
   "metadata": {
    "_cell_guid": "198f11c5-287d-439c-bf12-5cb8e1cb9dc4",
    "_uuid": "e7638a6e5e41736b83a6afa9f63802ff61be6f06",
    "collapsed": true
   },
   "outputs": [],
   "source": [
    "color_combos = subsets(colors)"
   ]
  },
  {
   "cell_type": "code",
   "execution_count": null,
   "metadata": {
    "_cell_guid": "9fb12dec-52ba-424e-8afe-68bc6ce659c6",
    "_uuid": "b9464db9ed82e0a182cf5ad085566bb0ed955763",
    "collapsed": true
   },
   "outputs": [],
   "source": [
    "subsets_by_color = {}\n",
    "\n",
    "for color_combo in color_combos:\n",
    "    cards = all_cards.loc[all_cards.colors.apply(lambda x: x == color_combo)]\n",
    "    subsets_by_color.update({tuple(color_combo) : cards})"
   ]
  },
  {
   "cell_type": "code",
   "execution_count": null,
   "metadata": {
    "_cell_guid": "cb7b7e8d-33a9-4c27-99b1-4a1bec01fe9e",
    "_uuid": "506d4d3f9c3a67c1366072ed2dbc671da86b9c82",
    "collapsed": true
   },
   "outputs": [],
   "source": [
    "cmcs = all_cards.loc[:, \"cmc\"].dropna()"
   ]
  },
  {
   "cell_type": "code",
   "execution_count": null,
   "metadata": {
    "_cell_guid": "08028064-c6ed-4904-a62d-11da70c8d502",
    "_uuid": "cf5d9eb6758dc95f11a92f3877e0f5c7a310518c",
    "collapsed": true
   },
   "outputs": [],
   "source": [
    "def plot_int_hist(df_, title, x_axis, y_axis, fig_x, fig_y):\n",
    "    df = df_.dropna()\n",
    "    num_bins = len(np.unique(df.values))\n",
    "    \n",
    "    fig, ax = plt.subplots(figsize = (fig_x, fig_y))\n",
    "    \n",
    "    n, bins, patches = ax.hist(df, num_bins, normed = True)\n",
    "    \n",
    "    df_mean = df.mean()\n",
    "    df_std = df.std()\n",
    "    y = mlab.normpdf(bins, df_mean, df_std)\n",
    "    \n",
    "    ax.plot(bins, y, '--')\n",
    "    ax.set_ylabel(y_axis)\n",
    "    ax.set_xlabel(x_axis)\n",
    "    ax.set_title(title)\n",
    "    plt.text(10, 0.20, \"mean = \" + str(round(df_mean, 5)))\n",
    "    plt.text(10, 0.18, \"stdev = \" + str(round(df_std, 5)))\n",
    "    \n",
    "    fig.tight_layout()\n",
    "    plt.show()"
   ]
  },
  {
   "cell_type": "code",
   "execution_count": null,
   "metadata": {
    "_cell_guid": "8c5e5370-8e1a-4de7-93a5-ceef77faa475",
    "_uuid": "979057dce543d845b6d207d55fef53940bb6e4a8",
    "collapsed": true
   },
   "outputs": [],
   "source": [
    "plot_int_hist(cmcs, title = \"Distribution of Converted Mana Cost - All Nonland Cards\",\n",
    "              x_axis = \"CMC\", y_axis = \"Percentage\", fig_x = 12, fig_y = 8)"
   ]
  },
  {
   "cell_type": "code",
   "execution_count": null,
   "metadata": {
    "_cell_guid": "112891e4-8463-4d9e-9273-aab27a8a0f9d",
    "_uuid": "98046ab3510226d876338308797fc3d830171fbc",
    "collapsed": true
   },
   "outputs": [],
   "source": [
    "lm_pt_cmc = all_cards.loc[:, [\"power\", \"toughness\", \"cmc\"]]\n",
    "lm_pt_cmc = lm_pt_cmc.loc[lm_pt_cmc.power.notnull() | lm_pt_cmc.toughness.notnull()]"
   ]
  },
  {
   "cell_type": "code",
   "execution_count": null,
   "metadata": {
    "_cell_guid": "e9df0064-4745-443e-a834-e0e961c3de24",
    "_uuid": "382a28aefd9f141d2f11d453199c4cc43f348d45",
    "collapsed": true,
    "scrolled": false
   },
   "outputs": [],
   "source": [
    "fig, hm = plt.subplots(figsize = (15, 10))\n",
    "\n",
    "hm.hist2d(lm_pt_cmc.power, lm_pt_cmc.toughness, bins = np.arange(-1.5, 16.5), range = ((-1, 16), (-1, 16)), \n",
    "          cmap = \"summer\", norm = matplotlib.colors.LogNorm())\n",
    "#hm.hexbin(lm_pt_cmc.power, lm_pt_cmc.toughness, gridsize = 17, bins = \"log\", cmap = \"summer\")\n",
    "hm.set_xlabel(\"Power\")\n",
    "hm.set_ylabel(\"Toughness\")\n",
    "hm.set_xticks(np.arange(-1, 16))\n",
    "hm.set_yticks(np.arange(-1, 16))\n",
    "hm.set_title(\"Power/Toughness Heatmap\")"
   ]
  },
  {
   "cell_type": "code",
   "execution_count": null,
   "metadata": {
    "_cell_guid": "a2544cc3-94c3-477a-84ed-5ce5a24ed082",
    "_uuid": "48f0b7b12c32f071c55b51a90f46dfc99bebc91a",
    "collapsed": true
   },
   "outputs": [],
   "source": [
    "avg_cmc_pivot = pd.pivot_table(data = lm_pt_cmc, values = \"cmc\", index = [\"power\", \"toughness\"])\n",
    "avg_cmc_pivot.index"
   ]
  },
  {
   "cell_type": "code",
   "execution_count": null,
   "metadata": {
    "_cell_guid": "69747315-eb9c-4efc-b427-37748ce7be0f",
    "_uuid": "94245ff3c9284e0c082dd6cac0400d8c7fa29b69",
    "collapsed": true
   },
   "outputs": [],
   "source": [
    "len(avg_cmc_pivot)"
   ]
  },
  {
   "cell_type": "code",
   "execution_count": null,
   "metadata": {
    "collapsed": true
   },
   "outputs": [],
   "source": [
    "avg_cmc_pivot.loc['power' == 13]"
   ]
  },
  {
   "cell_type": "code",
   "execution_count": null,
   "metadata": {
    "collapsed": true
   },
   "outputs": [],
   "source": [
    "lm_pt_cmc.loc[lm_pt_cmc.toughness == 13.0]"
   ]
  },
  {
   "cell_type": "code",
   "execution_count": null,
   "metadata": {
    "collapsed": true
   },
   "outputs": [],
   "source": []
  }
 ],
 "metadata": {
  "anaconda-cloud": {},
  "kernelspec": {
   "display_name": "Python 3",
   "language": "python",
   "name": "python3"
  },
  "language_info": {
   "codemirror_mode": {
    "name": "ipython",
    "version": 3
   },
   "file_extension": ".py",
   "mimetype": "text/x-python",
   "name": "python",
   "nbconvert_exporter": "python",
   "pygments_lexer": "ipython3",
   "version": "3.6.4"
  }
 },
 "nbformat": 4,
 "nbformat_minor": 2
}
